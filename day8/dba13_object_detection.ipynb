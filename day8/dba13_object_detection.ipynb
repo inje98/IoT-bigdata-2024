{
 "cells": [
  {
   "cell_type": "code",
   "execution_count": 1,
   "metadata": {},
   "outputs": [
    {
     "data": {
      "text/plain": [
       "[]"
      ]
     },
     "execution_count": 1,
     "metadata": {},
     "output_type": "execute_result"
    }
   ],
   "source": [
    "!!pip install opencv-python"
   ]
  },
  {
   "cell_type": "code",
   "execution_count": 4,
   "metadata": {},
   "outputs": [
    {
     "name": "stdout",
     "output_type": "stream",
     "text": [
      "Package           Version\n",
      "----------------- ------------\n",
      "asttokens         2.4.1\n",
      "colorama          0.4.6\n",
      "comm              0.2.2\n",
      "contourpy         1.2.1\n",
      "cycler            0.12.1\n",
      "debugpy           1.8.5\n",
      "decorator         5.1.1\n",
      "executing         2.0.1\n",
      "filelock          3.13.1\n",
      "fonttools         4.53.1\n",
      "fsspec            2024.2.0\n",
      "ipykernel         6.29.5\n",
      "ipython           8.26.0\n",
      "jedi              0.19.1\n",
      "Jinja2            3.1.3\n",
      "joblib            1.4.2\n",
      "jupyter_client    8.6.2\n",
      "jupyter_core      5.7.2\n",
      "kiwisolver        1.4.5\n",
      "MarkupSafe        2.1.5\n",
      "matplotlib        3.9.1.post1\n",
      "matplotlib-inline 0.1.7\n",
      "mpmath            1.3.0\n",
      "nest-asyncio      1.6.0\n",
      "networkx          3.2.1\n",
      "numpy             1.26.3\n",
      "packaging         24.1\n",
      "pandas            2.2.2\n",
      "parso             0.8.4\n",
      "pillow            10.2.0\n",
      "pip               24.0\n",
      "platformdirs      4.2.2\n",
      "prompt_toolkit    3.0.47\n",
      "psutil            6.0.0\n",
      "pure_eval         0.2.3\n",
      "Pygments          2.18.0\n",
      "pyparsing         3.1.2\n",
      "python-dateutil   2.9.0.post0\n",
      "pytz              2024.1\n",
      "pywin32           306\n",
      "pyzmq             26.1.0\n",
      "scikit-learn      1.5.1\n",
      "scipy             1.14.0\n",
      "seaborn           0.13.2\n",
      "setuptools        69.0.3\n",
      "six               1.16.0\n",
      "stack-data        0.6.3\n",
      "sympy             1.12\n",
      "threadpoolctl     3.5.0\n",
      "torch             2.4.0+cu121\n",
      "torchaudio        2.4.0+cu121\n",
      "torchvision       0.19.0+cu121\n",
      "tornado           6.4.1\n",
      "tqdm              4.66.5\n",
      "traitlets         5.14.3\n",
      "typing_extensions 4.9.0\n",
      "tzdata            2024.1\n",
      "wcwidth           0.2.13\n",
      "wheel             0.42.0\n",
      "Note: you may need to restart the kernel to use updated packages.\n"
     ]
    },
    {
     "name": "stderr",
     "output_type": "stream",
     "text": [
      "\n",
      "[notice] A new release of pip is available: 24.0 -> 24.2\n",
      "[notice] To update, run: python.exe -m pip install --upgrade pip\n"
     ]
    }
   ],
   "source": []
  },
  {
   "cell_type": "code",
   "execution_count": 3,
   "metadata": {},
   "outputs": [],
   "source": [
    "import cv2"
   ]
  },
  {
   "cell_type": "code",
   "execution_count": 2,
   "metadata": {},
   "outputs": [],
   "source": [
    "img = cv2.imread('./fenex_fox.png')\n",
    "\n",
    "cv2.imshow('Fox', img)\n",
    "cv2.waitKey(0)\n",
    "cv2.destroyAllWindows()"
   ]
  },
  {
   "cell_type": "code",
   "execution_count": 9,
   "metadata": {},
   "outputs": [
    {
     "ename": "error",
     "evalue": "OpenCV(4.10.0) D:\\a\\opencv-python\\opencv-python\\opencv\\modules\\highgui\\src\\window.cpp:973: error: (-215:Assertion failed) size.width>0 && size.height>0 in function 'cv::imshow'\n",
     "output_type": "error",
     "traceback": [
      "\u001b[1;31m---------------------------------------------------------------------------\u001b[0m",
      "\u001b[1;31merror\u001b[0m                                     Traceback (most recent call last)",
      "Cell \u001b[1;32mIn[9], line 9\u001b[0m\n\u001b[0;32m      7\u001b[0m \u001b[38;5;28;01mwhile\u001b[39;00m \u001b[38;5;28;01mTrue\u001b[39;00m:\n\u001b[0;32m      8\u001b[0m     _, img \u001b[38;5;241m=\u001b[39m cap\u001b[38;5;241m.\u001b[39mread() \u001b[38;5;66;03m# 실시간으로 화면을 캡쳐 ret(결과정보객체) 보통 사용하지 않아서 _로 변경, img(실시간 이미지)\u001b[39;00m\n\u001b[1;32m----> 9\u001b[0m     \u001b[43mcv2\u001b[49m\u001b[38;5;241;43m.\u001b[39;49m\u001b[43mimshow\u001b[49m\u001b[43m(\u001b[49m\u001b[38;5;124;43m'\u001b[39;49m\u001b[38;5;124;43myoutube mpeg\u001b[39;49m\u001b[38;5;124;43m'\u001b[39;49m\u001b[43m,\u001b[49m\u001b[43m \u001b[49m\u001b[43mimg\u001b[49m\u001b[43m)\u001b[49m   \u001b[38;5;66;03m## 내부적으로 PyQt로 생성되는 GUI 창\u001b[39;00m\n\u001b[0;32m     11\u001b[0m     \u001b[38;5;28;01mif\u001b[39;00m cv2\u001b[38;5;241m.\u001b[39mwaitKey(\u001b[38;5;241m1\u001b[39m) \u001b[38;5;241m==\u001b[39m \u001b[38;5;28mord\u001b[39m(\u001b[38;5;124m'\u001b[39m\u001b[38;5;124mq\u001b[39m\u001b[38;5;124m'\u001b[39m): \u001b[38;5;66;03m# 키보드 q를 클릭하면\u001b[39;00m\n\u001b[0;32m     12\u001b[0m         \u001b[38;5;28;01mbreak\u001b[39;00m\n",
      "\u001b[1;31merror\u001b[0m: OpenCV(4.10.0) D:\\a\\opencv-python\\opencv-python\\opencv\\modules\\highgui\\src\\window.cpp:973: error: (-215:Assertion failed) size.width>0 && size.height>0 in function 'cv::imshow'\n"
     ]
    },
    {
     "ename": "",
     "evalue": "",
     "output_type": "error",
     "traceback": [
      "\u001b[1;31m현재 셀 또는 이전 셀에서 코드를 실행하는 동안 Kernel이 충돌했습니다. \n",
      "\u001b[1;31m셀의 코드를 검토하여 가능한 오류 원인을 식별하세요. \n",
      "\u001b[1;31m자세한 내용을 보려면 <a href='https://aka.ms/vscodeJupyterKernelCrash'>여기</a>를 클릭하세요. \n",
      "\u001b[1;31m자세한 내용은 Jupyter <a href='command:jupyter.viewOutput'>로그</a>를 참조하세요."
     ]
    }
   ],
   "source": [
    "Video_path = './Mumbai_traffic.mp4'\n",
    "\n",
    "cap = cv2.VideoCapture(Video_path)\n",
    "cap.set(3, 640)\n",
    "cap.set(4, 480)\n",
    "\n",
    "while True:\n",
    "    _, img = cap.read() # 실시간으로 화면을 캡쳐 ret(결과정보객체) 보통 사용하지 않아서 _로 변경, img(실시간 이미지)\n",
    "    cv2.imshow('youtube mpeg', img)   ## 내부적으로 PyQt로 생성되는 GUI 창\n",
    "\n",
    "    if cv2.waitKey(1) == ord('q'): # 키보드 q를 클릭하면\n",
    "        break\n",
    "\n",
    "cap.release() # 자원 해제\n",
    "cv2.destroyAllWindows()"
   ]
  },
  {
   "cell_type": "markdown",
   "metadata": {},
   "source": [
    "#### pafy\n",
    "- 유튜브 컨텐츠, 메타데이터 검색 라이브러리"
   ]
  },
  {
   "cell_type": "code",
   "execution_count": 1,
   "metadata": {},
   "outputs": [
    {
     "name": "stdout",
     "output_type": "stream",
     "text": [
      "Collecting youtube_dl\n",
      "  Downloading youtube_dl-2021.12.17-py2.py3-none-any.whl.metadata (1.5 kB)\n",
      "Downloading youtube_dl-2021.12.17-py2.py3-none-any.whl (1.9 MB)\n",
      "   ---------------------------------------- 0.0/1.9 MB ? eta -:--:--\n",
      "   ---------------------------------------- 1.9/1.9 MB 10.5 MB/s eta 0:00:00\n",
      "Installing collected packages: youtube_dl\n",
      "Successfully installed youtube_dl-2021.12.17\n"
     ]
    }
   ],
   "source": [
    "## pafy 설치\n",
    "!pip install youtube_dl"
   ]
  },
  {
   "cell_type": "code",
   "execution_count": 2,
   "metadata": {},
   "outputs": [],
   "source": [
    "import pafy"
   ]
  },
  {
   "cell_type": "code",
   "execution_count": 3,
   "metadata": {},
   "outputs": [
    {
     "name": "stderr",
     "output_type": "stream",
     "text": [
      "ERROR: Unable to extract uploader id; please report this issue on https://yt-dl.org/bug . Make sure you are using the latest version; see  https://yt-dl.org/update  on how to update. Be sure to call youtube-dl with the --verbose flag and include its complete output.\n"
     ]
    },
    {
     "ename": "OSError",
     "evalue": "ERROR: Unable to extract uploader id; please report this issue on https://yt-dl.org/bug . Make sure you are using the latest version; see  https://yt-dl.org/update  on how to update. Be sure to call youtube-dl with the --verbose flag and include its complete output.",
     "output_type": "error",
     "traceback": [
      "\u001b[1;31m---------------------------------------------------------------------------\u001b[0m",
      "\u001b[1;31mRegexNotFoundError\u001b[0m                        Traceback (most recent call last)",
      "File \u001b[1;32mc:\\DEV\\Langs\\Python311\\Lib\\site-packages\\youtube_dl\\YoutubeDL.py:815\u001b[0m, in \u001b[0;36mYoutubeDL.__handle_extraction_exceptions.<locals>.wrapper\u001b[1;34m(self, *args, **kwargs)\u001b[0m\n\u001b[0;32m    814\u001b[0m \u001b[38;5;28;01mtry\u001b[39;00m:\n\u001b[1;32m--> 815\u001b[0m     \u001b[38;5;28;01mreturn\u001b[39;00m \u001b[43mfunc\u001b[49m\u001b[43m(\u001b[49m\u001b[38;5;28;43mself\u001b[39;49m\u001b[43m,\u001b[49m\u001b[43m \u001b[49m\u001b[38;5;241;43m*\u001b[39;49m\u001b[43margs\u001b[49m\u001b[43m,\u001b[49m\u001b[43m \u001b[49m\u001b[38;5;241;43m*\u001b[39;49m\u001b[38;5;241;43m*\u001b[39;49m\u001b[43mkwargs\u001b[49m\u001b[43m)\u001b[49m\n\u001b[0;32m    816\u001b[0m \u001b[38;5;28;01mexcept\u001b[39;00m GeoRestrictedError \u001b[38;5;28;01mas\u001b[39;00m e:\n",
      "File \u001b[1;32mc:\\DEV\\Langs\\Python311\\Lib\\site-packages\\youtube_dl\\YoutubeDL.py:836\u001b[0m, in \u001b[0;36mYoutubeDL.__extract_info\u001b[1;34m(self, url, ie, download, extra_info, process)\u001b[0m\n\u001b[0;32m    834\u001b[0m \u001b[38;5;129m@__handle_extraction_exceptions\u001b[39m\n\u001b[0;32m    835\u001b[0m \u001b[38;5;28;01mdef\u001b[39;00m \u001b[38;5;21m__extract_info\u001b[39m(\u001b[38;5;28mself\u001b[39m, url, ie, download, extra_info, process):\n\u001b[1;32m--> 836\u001b[0m     ie_result \u001b[38;5;241m=\u001b[39m \u001b[43mie\u001b[49m\u001b[38;5;241;43m.\u001b[39;49m\u001b[43mextract\u001b[49m\u001b[43m(\u001b[49m\u001b[43murl\u001b[49m\u001b[43m)\u001b[49m\n\u001b[0;32m    837\u001b[0m     \u001b[38;5;28;01mif\u001b[39;00m ie_result \u001b[38;5;129;01mis\u001b[39;00m \u001b[38;5;28;01mNone\u001b[39;00m:  \u001b[38;5;66;03m# Finished already (backwards compatibility; listformats and friends should be moved here)\u001b[39;00m\n",
      "File \u001b[1;32mc:\\DEV\\Langs\\Python311\\Lib\\site-packages\\youtube_dl\\extractor\\common.py:534\u001b[0m, in \u001b[0;36mInfoExtractor.extract\u001b[1;34m(self, url)\u001b[0m\n\u001b[0;32m    533\u001b[0m \u001b[38;5;28mself\u001b[39m\u001b[38;5;241m.\u001b[39minitialize()\n\u001b[1;32m--> 534\u001b[0m ie_result \u001b[38;5;241m=\u001b[39m \u001b[38;5;28;43mself\u001b[39;49m\u001b[38;5;241;43m.\u001b[39;49m\u001b[43m_real_extract\u001b[49m\u001b[43m(\u001b[49m\u001b[43murl\u001b[49m\u001b[43m)\u001b[49m\n\u001b[0;32m    535\u001b[0m \u001b[38;5;28;01mif\u001b[39;00m \u001b[38;5;28mself\u001b[39m\u001b[38;5;241m.\u001b[39m_x_forwarded_for_ip:\n",
      "File \u001b[1;32mc:\\DEV\\Langs\\Python311\\Lib\\site-packages\\youtube_dl\\extractor\\youtube.py:1794\u001b[0m, in \u001b[0;36mYoutubeIE._real_extract\u001b[1;34m(self, url)\u001b[0m\n\u001b[0;32m   1782\u001b[0m owner_profile_url \u001b[38;5;241m=\u001b[39m microformat\u001b[38;5;241m.\u001b[39mget(\u001b[38;5;124m'\u001b[39m\u001b[38;5;124mownerProfileUrl\u001b[39m\u001b[38;5;124m'\u001b[39m)\n\u001b[0;32m   1784\u001b[0m info \u001b[38;5;241m=\u001b[39m {\n\u001b[0;32m   1785\u001b[0m     \u001b[38;5;124m'\u001b[39m\u001b[38;5;124mid\u001b[39m\u001b[38;5;124m'\u001b[39m: video_id,\n\u001b[0;32m   1786\u001b[0m     \u001b[38;5;124m'\u001b[39m\u001b[38;5;124mtitle\u001b[39m\u001b[38;5;124m'\u001b[39m: \u001b[38;5;28mself\u001b[39m\u001b[38;5;241m.\u001b[39m_live_title(video_title) \u001b[38;5;28;01mif\u001b[39;00m is_live \u001b[38;5;28;01melse\u001b[39;00m video_title,\n\u001b[0;32m   1787\u001b[0m     \u001b[38;5;124m'\u001b[39m\u001b[38;5;124mformats\u001b[39m\u001b[38;5;124m'\u001b[39m: formats,\n\u001b[0;32m   1788\u001b[0m     \u001b[38;5;124m'\u001b[39m\u001b[38;5;124mthumbnails\u001b[39m\u001b[38;5;124m'\u001b[39m: thumbnails,\n\u001b[0;32m   1789\u001b[0m     \u001b[38;5;124m'\u001b[39m\u001b[38;5;124mdescription\u001b[39m\u001b[38;5;124m'\u001b[39m: video_description,\n\u001b[0;32m   1790\u001b[0m     \u001b[38;5;124m'\u001b[39m\u001b[38;5;124mupload_date\u001b[39m\u001b[38;5;124m'\u001b[39m: unified_strdate(\n\u001b[0;32m   1791\u001b[0m         microformat\u001b[38;5;241m.\u001b[39mget(\u001b[38;5;124m'\u001b[39m\u001b[38;5;124muploadDate\u001b[39m\u001b[38;5;124m'\u001b[39m)\n\u001b[0;32m   1792\u001b[0m         \u001b[38;5;129;01mor\u001b[39;00m search_meta(\u001b[38;5;124m'\u001b[39m\u001b[38;5;124muploadDate\u001b[39m\u001b[38;5;124m'\u001b[39m)),\n\u001b[0;32m   1793\u001b[0m     \u001b[38;5;124m'\u001b[39m\u001b[38;5;124muploader\u001b[39m\u001b[38;5;124m'\u001b[39m: video_details[\u001b[38;5;124m'\u001b[39m\u001b[38;5;124mauthor\u001b[39m\u001b[38;5;124m'\u001b[39m],\n\u001b[1;32m-> 1794\u001b[0m     \u001b[38;5;124m'\u001b[39m\u001b[38;5;124muploader_id\u001b[39m\u001b[38;5;124m'\u001b[39m: \u001b[38;5;28;43mself\u001b[39;49m\u001b[38;5;241;43m.\u001b[39;49m\u001b[43m_search_regex\u001b[49m\u001b[43m(\u001b[49m\u001b[38;5;124;43mr\u001b[39;49m\u001b[38;5;124;43m'\u001b[39;49m\u001b[38;5;124;43m/(?:channel|user)/([^/?&#]+)\u001b[39;49m\u001b[38;5;124;43m'\u001b[39;49m\u001b[43m,\u001b[49m\u001b[43m \u001b[49m\u001b[43mowner_profile_url\u001b[49m\u001b[43m,\u001b[49m\u001b[43m \u001b[49m\u001b[38;5;124;43m'\u001b[39;49m\u001b[38;5;124;43muploader id\u001b[39;49m\u001b[38;5;124;43m'\u001b[39;49m\u001b[43m)\u001b[49m \u001b[38;5;28;01mif\u001b[39;00m owner_profile_url \u001b[38;5;28;01melse\u001b[39;00m \u001b[38;5;28;01mNone\u001b[39;00m,\n\u001b[0;32m   1795\u001b[0m     \u001b[38;5;124m'\u001b[39m\u001b[38;5;124muploader_url\u001b[39m\u001b[38;5;124m'\u001b[39m: owner_profile_url,\n\u001b[0;32m   1796\u001b[0m     \u001b[38;5;124m'\u001b[39m\u001b[38;5;124mchannel_id\u001b[39m\u001b[38;5;124m'\u001b[39m: channel_id,\n\u001b[0;32m   1797\u001b[0m     \u001b[38;5;124m'\u001b[39m\u001b[38;5;124mchannel_url\u001b[39m\u001b[38;5;124m'\u001b[39m: \u001b[38;5;124m'\u001b[39m\u001b[38;5;124mhttps://www.youtube.com/channel/\u001b[39m\u001b[38;5;124m'\u001b[39m \u001b[38;5;241m+\u001b[39m channel_id \u001b[38;5;28;01mif\u001b[39;00m channel_id \u001b[38;5;28;01melse\u001b[39;00m \u001b[38;5;28;01mNone\u001b[39;00m,\n\u001b[0;32m   1798\u001b[0m     \u001b[38;5;124m'\u001b[39m\u001b[38;5;124mduration\u001b[39m\u001b[38;5;124m'\u001b[39m: duration,\n\u001b[0;32m   1799\u001b[0m     \u001b[38;5;124m'\u001b[39m\u001b[38;5;124mview_count\u001b[39m\u001b[38;5;124m'\u001b[39m: int_or_none(\n\u001b[0;32m   1800\u001b[0m         video_details\u001b[38;5;241m.\u001b[39mget(\u001b[38;5;124m'\u001b[39m\u001b[38;5;124mviewCount\u001b[39m\u001b[38;5;124m'\u001b[39m)\n\u001b[0;32m   1801\u001b[0m         \u001b[38;5;129;01mor\u001b[39;00m microformat\u001b[38;5;241m.\u001b[39mget(\u001b[38;5;124m'\u001b[39m\u001b[38;5;124mviewCount\u001b[39m\u001b[38;5;124m'\u001b[39m)\n\u001b[0;32m   1802\u001b[0m         \u001b[38;5;129;01mor\u001b[39;00m search_meta(\u001b[38;5;124m'\u001b[39m\u001b[38;5;124minteractionCount\u001b[39m\u001b[38;5;124m'\u001b[39m)),\n\u001b[0;32m   1803\u001b[0m     \u001b[38;5;124m'\u001b[39m\u001b[38;5;124maverage_rating\u001b[39m\u001b[38;5;124m'\u001b[39m: float_or_none(video_details\u001b[38;5;241m.\u001b[39mget(\u001b[38;5;124m'\u001b[39m\u001b[38;5;124maverageRating\u001b[39m\u001b[38;5;124m'\u001b[39m)),\n\u001b[0;32m   1804\u001b[0m     \u001b[38;5;124m'\u001b[39m\u001b[38;5;124mage_limit\u001b[39m\u001b[38;5;124m'\u001b[39m: \u001b[38;5;241m18\u001b[39m \u001b[38;5;28;01mif\u001b[39;00m (\n\u001b[0;32m   1805\u001b[0m         microformat\u001b[38;5;241m.\u001b[39mget(\u001b[38;5;124m'\u001b[39m\u001b[38;5;124misFamilySafe\u001b[39m\u001b[38;5;124m'\u001b[39m) \u001b[38;5;129;01mis\u001b[39;00m \u001b[38;5;28;01mFalse\u001b[39;00m\n\u001b[0;32m   1806\u001b[0m         \u001b[38;5;129;01mor\u001b[39;00m search_meta(\u001b[38;5;124m'\u001b[39m\u001b[38;5;124misFamilyFriendly\u001b[39m\u001b[38;5;124m'\u001b[39m) \u001b[38;5;241m==\u001b[39m \u001b[38;5;124m'\u001b[39m\u001b[38;5;124mfalse\u001b[39m\u001b[38;5;124m'\u001b[39m\n\u001b[0;32m   1807\u001b[0m         \u001b[38;5;129;01mor\u001b[39;00m search_meta(\u001b[38;5;124m'\u001b[39m\u001b[38;5;124mog:restrictions:age\u001b[39m\u001b[38;5;124m'\u001b[39m) \u001b[38;5;241m==\u001b[39m \u001b[38;5;124m'\u001b[39m\u001b[38;5;124m18+\u001b[39m\u001b[38;5;124m'\u001b[39m) \u001b[38;5;28;01melse\u001b[39;00m \u001b[38;5;241m0\u001b[39m,\n\u001b[0;32m   1808\u001b[0m     \u001b[38;5;124m'\u001b[39m\u001b[38;5;124mwebpage_url\u001b[39m\u001b[38;5;124m'\u001b[39m: webpage_url,\n\u001b[0;32m   1809\u001b[0m     \u001b[38;5;124m'\u001b[39m\u001b[38;5;124mcategories\u001b[39m\u001b[38;5;124m'\u001b[39m: [category] \u001b[38;5;28;01mif\u001b[39;00m category \u001b[38;5;28;01melse\u001b[39;00m \u001b[38;5;28;01mNone\u001b[39;00m,\n\u001b[0;32m   1810\u001b[0m     \u001b[38;5;124m'\u001b[39m\u001b[38;5;124mtags\u001b[39m\u001b[38;5;124m'\u001b[39m: keywords,\n\u001b[0;32m   1811\u001b[0m     \u001b[38;5;124m'\u001b[39m\u001b[38;5;124mis_live\u001b[39m\u001b[38;5;124m'\u001b[39m: is_live,\n\u001b[0;32m   1812\u001b[0m }\n\u001b[0;32m   1814\u001b[0m pctr \u001b[38;5;241m=\u001b[39m try_get(\n\u001b[0;32m   1815\u001b[0m     player_response,\n\u001b[0;32m   1816\u001b[0m     \u001b[38;5;28;01mlambda\u001b[39;00m x: x[\u001b[38;5;124m'\u001b[39m\u001b[38;5;124mcaptions\u001b[39m\u001b[38;5;124m'\u001b[39m][\u001b[38;5;124m'\u001b[39m\u001b[38;5;124mplayerCaptionsTracklistRenderer\u001b[39m\u001b[38;5;124m'\u001b[39m], \u001b[38;5;28mdict\u001b[39m)\n",
      "File \u001b[1;32mc:\\DEV\\Langs\\Python311\\Lib\\site-packages\\youtube_dl\\extractor\\common.py:1012\u001b[0m, in \u001b[0;36mInfoExtractor._search_regex\u001b[1;34m(self, pattern, string, name, default, fatal, flags, group)\u001b[0m\n\u001b[0;32m   1011\u001b[0m \u001b[38;5;28;01melif\u001b[39;00m fatal:\n\u001b[1;32m-> 1012\u001b[0m     \u001b[38;5;28;01mraise\u001b[39;00m RegexNotFoundError(\u001b[38;5;124m'\u001b[39m\u001b[38;5;124mUnable to extract \u001b[39m\u001b[38;5;132;01m%s\u001b[39;00m\u001b[38;5;124m'\u001b[39m \u001b[38;5;241m%\u001b[39m _name)\n\u001b[0;32m   1013\u001b[0m \u001b[38;5;28;01melse\u001b[39;00m:\n",
      "\u001b[1;31mRegexNotFoundError\u001b[0m: Unable to extract uploader id; please report this issue on https://yt-dl.org/bug . Make sure you are using the latest version; see  https://yt-dl.org/update  on how to update. Be sure to call youtube-dl with the --verbose flag and include its complete output.",
      "\nDuring handling of the above exception, another exception occurred:\n",
      "\u001b[1;31mDownloadError\u001b[0m                             Traceback (most recent call last)",
      "File \u001b[1;32mc:\\DEV\\Langs\\Python311\\Lib\\site-packages\\pafy\\backend_youtube_dl.py:40\u001b[0m, in \u001b[0;36mYtdlPafy._fetch_basic\u001b[1;34m(self)\u001b[0m\n\u001b[0;32m     39\u001b[0m \u001b[38;5;28;01mtry\u001b[39;00m:\n\u001b[1;32m---> 40\u001b[0m     \u001b[38;5;28mself\u001b[39m\u001b[38;5;241m.\u001b[39m_ydl_info \u001b[38;5;241m=\u001b[39m \u001b[43mydl\u001b[49m\u001b[38;5;241;43m.\u001b[39;49m\u001b[43mextract_info\u001b[49m\u001b[43m(\u001b[49m\u001b[38;5;28;43mself\u001b[39;49m\u001b[38;5;241;43m.\u001b[39;49m\u001b[43mvideoid\u001b[49m\u001b[43m,\u001b[49m\u001b[43m \u001b[49m\u001b[43mdownload\u001b[49m\u001b[38;5;241;43m=\u001b[39;49m\u001b[38;5;28;43;01mFalse\u001b[39;49;00m\u001b[43m)\u001b[49m\n\u001b[0;32m     41\u001b[0m \u001b[38;5;66;03m# Turn into an IOError since that is what pafy previously raised\u001b[39;00m\n",
      "File \u001b[1;32mc:\\DEV\\Langs\\Python311\\Lib\\site-packages\\youtube_dl\\YoutubeDL.py:808\u001b[0m, in \u001b[0;36mYoutubeDL.extract_info\u001b[1;34m(self, url, download, ie_key, extra_info, process, force_generic_extractor)\u001b[0m\n\u001b[0;32m    805\u001b[0m         \u001b[38;5;28mself\u001b[39m\u001b[38;5;241m.\u001b[39mreport_warning(\u001b[38;5;124m'\u001b[39m\u001b[38;5;124mThe program functionality for this site has been marked as broken, \u001b[39m\u001b[38;5;124m'\u001b[39m\n\u001b[0;32m    806\u001b[0m                             \u001b[38;5;124m'\u001b[39m\u001b[38;5;124mand will probably not work.\u001b[39m\u001b[38;5;124m'\u001b[39m)\n\u001b[1;32m--> 808\u001b[0m     \u001b[38;5;28;01mreturn\u001b[39;00m \u001b[38;5;28;43mself\u001b[39;49m\u001b[38;5;241;43m.\u001b[39;49m\u001b[43m__extract_info\u001b[49m\u001b[43m(\u001b[49m\u001b[43murl\u001b[49m\u001b[43m,\u001b[49m\u001b[43m \u001b[49m\u001b[43mie\u001b[49m\u001b[43m,\u001b[49m\u001b[43m \u001b[49m\u001b[43mdownload\u001b[49m\u001b[43m,\u001b[49m\u001b[43m \u001b[49m\u001b[43mextra_info\u001b[49m\u001b[43m,\u001b[49m\u001b[43m \u001b[49m\u001b[43mprocess\u001b[49m\u001b[43m)\u001b[49m\n\u001b[0;32m    809\u001b[0m \u001b[38;5;28;01melse\u001b[39;00m:\n",
      "File \u001b[1;32mc:\\DEV\\Langs\\Python311\\Lib\\site-packages\\youtube_dl\\YoutubeDL.py:824\u001b[0m, in \u001b[0;36mYoutubeDL.__handle_extraction_exceptions.<locals>.wrapper\u001b[1;34m(self, *args, **kwargs)\u001b[0m\n\u001b[0;32m    823\u001b[0m \u001b[38;5;28;01mexcept\u001b[39;00m ExtractorError \u001b[38;5;28;01mas\u001b[39;00m e:  \u001b[38;5;66;03m# An error we somewhat expected\u001b[39;00m\n\u001b[1;32m--> 824\u001b[0m     \u001b[38;5;28;43mself\u001b[39;49m\u001b[38;5;241;43m.\u001b[39;49m\u001b[43mreport_error\u001b[49m\u001b[43m(\u001b[49m\u001b[43mcompat_str\u001b[49m\u001b[43m(\u001b[49m\u001b[43me\u001b[49m\u001b[43m)\u001b[49m\u001b[43m,\u001b[49m\u001b[43m \u001b[49m\u001b[43me\u001b[49m\u001b[38;5;241;43m.\u001b[39;49m\u001b[43mformat_traceback\u001b[49m\u001b[43m(\u001b[49m\u001b[43m)\u001b[49m\u001b[43m)\u001b[49m\n\u001b[0;32m    825\u001b[0m \u001b[38;5;28;01mexcept\u001b[39;00m MaxDownloadsReached:\n",
      "File \u001b[1;32mc:\\DEV\\Langs\\Python311\\Lib\\site-packages\\youtube_dl\\YoutubeDL.py:628\u001b[0m, in \u001b[0;36mYoutubeDL.report_error\u001b[1;34m(self, message, tb)\u001b[0m\n\u001b[0;32m    627\u001b[0m error_message \u001b[38;5;241m=\u001b[39m \u001b[38;5;124m'\u001b[39m\u001b[38;5;132;01m%s\u001b[39;00m\u001b[38;5;124m \u001b[39m\u001b[38;5;132;01m%s\u001b[39;00m\u001b[38;5;124m'\u001b[39m \u001b[38;5;241m%\u001b[39m (_msg_header, message)\n\u001b[1;32m--> 628\u001b[0m \u001b[38;5;28;43mself\u001b[39;49m\u001b[38;5;241;43m.\u001b[39;49m\u001b[43mtrouble\u001b[49m\u001b[43m(\u001b[49m\u001b[43merror_message\u001b[49m\u001b[43m,\u001b[49m\u001b[43m \u001b[49m\u001b[43mtb\u001b[49m\u001b[43m)\u001b[49m\n",
      "File \u001b[1;32mc:\\DEV\\Langs\\Python311\\Lib\\site-packages\\youtube_dl\\YoutubeDL.py:598\u001b[0m, in \u001b[0;36mYoutubeDL.trouble\u001b[1;34m(self, message, tb)\u001b[0m\n\u001b[0;32m    597\u001b[0m         exc_info \u001b[38;5;241m=\u001b[39m sys\u001b[38;5;241m.\u001b[39mexc_info()\n\u001b[1;32m--> 598\u001b[0m     \u001b[38;5;28;01mraise\u001b[39;00m DownloadError(message, exc_info)\n\u001b[0;32m    599\u001b[0m \u001b[38;5;28mself\u001b[39m\u001b[38;5;241m.\u001b[39m_download_retcode \u001b[38;5;241m=\u001b[39m \u001b[38;5;241m1\u001b[39m\n",
      "\u001b[1;31mDownloadError\u001b[0m: ERROR: Unable to extract uploader id; please report this issue on https://yt-dl.org/bug . Make sure you are using the latest version; see  https://yt-dl.org/update  on how to update. Be sure to call youtube-dl with the --verbose flag and include its complete output.",
      "\nDuring handling of the above exception, another exception occurred:\n",
      "\u001b[1;31mOSError\u001b[0m                                   Traceback (most recent call last)",
      "Cell \u001b[1;32mIn[3], line 2\u001b[0m\n\u001b[0;32m      1\u001b[0m url \u001b[38;5;241m=\u001b[39m \u001b[38;5;124m'\u001b[39m\u001b[38;5;124mhttps://www.youtube.com/watch?v=zxxfvP8-lrU\u001b[39m\u001b[38;5;124m'\u001b[39m\n\u001b[1;32m----> 2\u001b[0m video \u001b[38;5;241m=\u001b[39m \u001b[43mpafy\u001b[49m\u001b[38;5;241;43m.\u001b[39;49m\u001b[43mnew\u001b[49m\u001b[43m(\u001b[49m\u001b[43murl\u001b[49m\u001b[43m)\u001b[49m\n",
      "File \u001b[1;32mc:\\DEV\\Langs\\Python311\\Lib\\site-packages\\pafy\\pafy.py:124\u001b[0m, in \u001b[0;36mnew\u001b[1;34m(url, basic, gdata, size, callback, ydl_opts)\u001b[0m\n\u001b[0;32m    121\u001b[0m     \u001b[38;5;28;01melse\u001b[39;00m:\n\u001b[0;32m    122\u001b[0m        \u001b[38;5;28;01mfrom\u001b[39;00m \u001b[38;5;21;01m.\u001b[39;00m\u001b[38;5;21;01mbackend_youtube_dl\u001b[39;00m \u001b[38;5;28;01mimport\u001b[39;00m YtdlPafy \u001b[38;5;28;01mas\u001b[39;00m Pafy\n\u001b[1;32m--> 124\u001b[0m \u001b[38;5;28;01mreturn\u001b[39;00m \u001b[43mPafy\u001b[49m\u001b[43m(\u001b[49m\u001b[43murl\u001b[49m\u001b[43m,\u001b[49m\u001b[43m \u001b[49m\u001b[43mbasic\u001b[49m\u001b[43m,\u001b[49m\u001b[43m \u001b[49m\u001b[43mgdata\u001b[49m\u001b[43m,\u001b[49m\u001b[43m \u001b[49m\u001b[43msize\u001b[49m\u001b[43m,\u001b[49m\u001b[43m \u001b[49m\u001b[43mcallback\u001b[49m\u001b[43m,\u001b[49m\u001b[43m \u001b[49m\u001b[43mydl_opts\u001b[49m\u001b[38;5;241;43m=\u001b[39;49m\u001b[43mydl_opts\u001b[49m\u001b[43m)\u001b[49m\n",
      "File \u001b[1;32mc:\\DEV\\Langs\\Python311\\Lib\\site-packages\\pafy\\backend_youtube_dl.py:31\u001b[0m, in \u001b[0;36mYtdlPafy.__init__\u001b[1;34m(self, *args, **kwargs)\u001b[0m\n\u001b[0;32m     29\u001b[0m \u001b[38;5;28;01mif\u001b[39;00m ydl_opts:\n\u001b[0;32m     30\u001b[0m     \u001b[38;5;28mself\u001b[39m\u001b[38;5;241m.\u001b[39m_ydl_opts\u001b[38;5;241m.\u001b[39mupdate(ydl_opts)\n\u001b[1;32m---> 31\u001b[0m \u001b[38;5;28;43msuper\u001b[39;49m\u001b[43m(\u001b[49m\u001b[43mYtdlPafy\u001b[49m\u001b[43m,\u001b[49m\u001b[43m \u001b[49m\u001b[38;5;28;43mself\u001b[39;49m\u001b[43m)\u001b[49m\u001b[38;5;241;43m.\u001b[39;49m\u001b[38;5;21;43m__init__\u001b[39;49m\u001b[43m(\u001b[49m\u001b[38;5;241;43m*\u001b[39;49m\u001b[43margs\u001b[49m\u001b[43m,\u001b[49m\u001b[43m \u001b[49m\u001b[38;5;241;43m*\u001b[39;49m\u001b[38;5;241;43m*\u001b[39;49m\u001b[43mkwargs\u001b[49m\u001b[43m)\u001b[49m\n",
      "File \u001b[1;32mc:\\DEV\\Langs\\Python311\\Lib\\site-packages\\pafy\\backend_shared.py:97\u001b[0m, in \u001b[0;36mBasePafy.__init__\u001b[1;34m(self, video_url, basic, gdata, size, callback, ydl_opts)\u001b[0m\n\u001b[0;32m     94\u001b[0m \u001b[38;5;28mself\u001b[39m\u001b[38;5;241m.\u001b[39mexpiry \u001b[38;5;241m=\u001b[39m \u001b[38;5;28;01mNone\u001b[39;00m\n\u001b[0;32m     96\u001b[0m \u001b[38;5;28;01mif\u001b[39;00m basic:\n\u001b[1;32m---> 97\u001b[0m     \u001b[38;5;28;43mself\u001b[39;49m\u001b[38;5;241;43m.\u001b[39;49m\u001b[43m_fetch_basic\u001b[49m\u001b[43m(\u001b[49m\u001b[43m)\u001b[49m\n\u001b[0;32m     99\u001b[0m \u001b[38;5;28;01mif\u001b[39;00m gdata:\n\u001b[0;32m    100\u001b[0m     \u001b[38;5;28mself\u001b[39m\u001b[38;5;241m.\u001b[39m_fetch_gdata()\n",
      "File \u001b[1;32mc:\\DEV\\Langs\\Python311\\Lib\\site-packages\\pafy\\backend_youtube_dl.py:43\u001b[0m, in \u001b[0;36mYtdlPafy._fetch_basic\u001b[1;34m(self)\u001b[0m\n\u001b[0;32m     41\u001b[0m     \u001b[38;5;66;03m# Turn into an IOError since that is what pafy previously raised\u001b[39;00m\n\u001b[0;32m     42\u001b[0m     \u001b[38;5;28;01mexcept\u001b[39;00m youtube_dl\u001b[38;5;241m.\u001b[39mutils\u001b[38;5;241m.\u001b[39mDownloadError \u001b[38;5;28;01mas\u001b[39;00m e:\n\u001b[1;32m---> 43\u001b[0m         \u001b[38;5;28;01mraise\u001b[39;00m \u001b[38;5;167;01mIOError\u001b[39;00m(\u001b[38;5;28mstr\u001b[39m(e)\u001b[38;5;241m.\u001b[39mreplace(\u001b[38;5;124m'\u001b[39m\u001b[38;5;124mYouTube said\u001b[39m\u001b[38;5;124m'\u001b[39m, \u001b[38;5;124m'\u001b[39m\u001b[38;5;124mYoutube says\u001b[39m\u001b[38;5;124m'\u001b[39m))\n\u001b[0;32m     45\u001b[0m \u001b[38;5;28;01mif\u001b[39;00m \u001b[38;5;28mself\u001b[39m\u001b[38;5;241m.\u001b[39mcallback:\n\u001b[0;32m     46\u001b[0m     \u001b[38;5;28mself\u001b[39m\u001b[38;5;241m.\u001b[39mcallback(\u001b[38;5;124m\"\u001b[39m\u001b[38;5;124mFetched video info\u001b[39m\u001b[38;5;124m\"\u001b[39m)\n",
      "\u001b[1;31mOSError\u001b[0m: ERROR: Unable to extract uploader id; please report this issue on https://yt-dl.org/bug . Make sure you are using the latest version; see  https://yt-dl.org/update  on how to update. Be sure to call youtube-dl with the --verbose flag and include its complete output."
     ]
    }
   ],
   "source": [
    "url = 'https://www.youtube.com/watch?v=zxxfvP8-lrU'\n",
    "video = pafy.new(url)"
   ]
  },
  {
   "cell_type": "code",
   "execution_count": 1,
   "metadata": {},
   "outputs": [
    {
     "name": "stdout",
     "output_type": "stream",
     "text": [
      "Collecting pytube\n",
      "  Downloading pytube-15.0.0-py3-none-any.whl.metadata (5.0 kB)\n",
      "Downloading pytube-15.0.0-py3-none-any.whl (57 kB)\n",
      "Installing collected packages: pytube\n",
      "Successfully installed pytube-15.0.0\n"
     ]
    }
   ],
   "source": [
    "!pip install pytube"
   ]
  },
  {
   "cell_type": "code",
   "execution_count": 2,
   "metadata": {},
   "outputs": [],
   "source": [
    "from pytube import YouTube\n",
    "import os"
   ]
  },
  {
   "cell_type": "code",
   "execution_count": 3,
   "metadata": {},
   "outputs": [],
   "source": [
    "def downYoutube(videourl, path):\n",
    "    yt = YouTube(videourl)\n",
    "    yt = yt.stream.filter(progressive=True, file_extension='mp4').order_by('resolution').desc().first()\n",
    "    if not os.path.exists(path): os.makedirs(path)\n",
    "\n",
    "    yt.download(path)"
   ]
  },
  {
   "cell_type": "code",
   "execution_count": null,
   "metadata": {},
   "outputs": [],
   "source": [
    "youtube_url = 'https://www.youtube.com/watch?v=zxxfvP8-lrU'\n",
    "downYoutube(youtube_url, 'video')"
   ]
  },
  {
   "cell_type": "markdown",
   "metadata": {},
   "source": [
    "### 이미지 처리"
   ]
  },
  {
   "cell_type": "code",
   "execution_count": 7,
   "metadata": {},
   "outputs": [],
   "source": [
    "img = cv2.imread('./fenex_fox.png')\n",
    "\n",
    "cv2.imshow('Fox', img)\n",
    "# cv2.waitKey(0)\n",
    "\n",
    "gray = cv2.cvtColor(img, cv2.COLOR_BGR2GRAY)\n",
    "height = img.shape[0]\n",
    "width = img.shape[1]\n",
    "half_img = cv2.resize(gray, (int(width/2), int(height/2)))\n",
    "cv2.imshow('half', half_img)\n",
    "cv2.waitKey(0)\n",
    "\n",
    "cv2.destroyAllWindows()"
   ]
  },
  {
   "cell_type": "code",
   "execution_count": 4,
   "metadata": {},
   "outputs": [],
   "source": [
    "import cv2"
   ]
  },
  {
   "cell_type": "code",
   "execution_count": 2,
   "metadata": {},
   "outputs": [],
   "source": [
    "Video_path = './mbc_news.mp4'\n",
    "\n",
    "faceCascade = cv2.CascadeClassifier('./haarcascade_frontalface_default.xml')\n",
    "\n",
    "cap = cv2.VideoCapture(Video_path)\n",
    "#cap.set(3, 640)\n",
    "#cap.set(4, 480)\n",
    "\n",
    "while (cap.isOpened()):\n",
    "    ret, img = cap.read() # 실시간으로 화면을 캡쳐 ret(결과정보객체) 보통 사용하지 않아서 _로 변경, img(실시간 이미지)\n",
    "    \n",
    "    if ret == True:\n",
    "        height, width = img.shape[0], img.shape[1]\n",
    "        half = cv2.resize(img, (int(width/2), int(height/2)))\n",
    "\n",
    "    # 얼굴인식\n",
    "    faces = faceCascade.detectMultiScale(\n",
    "        half,\n",
    "        scaleFactor=1.2,\n",
    "        minNeighbors=5,\n",
    "        minSize=(10, 10)\n",
    "    )\n",
    "\n",
    "    for (x,y,w,h) in faces:\n",
    "        cv2.rectangle(half, (x,y), (x+w, y+h), (0,0,255), 2)\n",
    "        roi_color = half[y:y+h, x:x+w]\n",
    "\n",
    "\n",
    "    cv2.imshow('youtube mpeg', half)   ## 내부적으로 PyQt로 생성되는 GUI 창\n",
    "\n",
    "    if cv2.waitKey(1) == ord('q'): # 키보드 q를 클릭하면\n",
    "        break\n",
    "\n",
    "cap.release() # 자원 해제\n",
    "cv2.destroyAllWindows()"
   ]
  },
  {
   "cell_type": "markdown",
   "metadata": {},
   "source": [
    "##### YOLO\n",
    "https://www.ultralytics.com/ko\n",
    "https://github.com/ultralytics/ultralytics"
   ]
  },
  {
   "cell_type": "code",
   "execution_count": 1,
   "metadata": {},
   "outputs": [
    {
     "name": "stdout",
     "output_type": "stream",
     "text": [
      "Requirement already satisfied: ultralytics in c:\\dev\\langs\\python311\\lib\\site-packages (8.2.76)\n",
      "Requirement already satisfied: numpy<2.0.0,>=1.23.0 in c:\\dev\\langs\\python311\\lib\\site-packages (from ultralytics) (1.26.3)\n",
      "Requirement already satisfied: matplotlib>=3.3.0 in c:\\dev\\langs\\python311\\lib\\site-packages (from ultralytics) (3.8.2)\n",
      "Requirement already satisfied: opencv-python>=4.6.0 in c:\\dev\\langs\\python311\\lib\\site-packages (from ultralytics) (4.10.0.84)\n",
      "Requirement already satisfied: pillow>=7.1.2 in c:\\dev\\langs\\python311\\lib\\site-packages (from ultralytics) (10.2.0)\n",
      "Requirement already satisfied: pyyaml>=5.3.1 in c:\\dev\\langs\\python311\\lib\\site-packages (from ultralytics) (6.0.2)\n",
      "Requirement already satisfied: requests>=2.23.0 in c:\\dev\\langs\\python311\\lib\\site-packages (from ultralytics) (2.31.0)\n",
      "Requirement already satisfied: scipy>=1.4.1 in c:\\dev\\langs\\python311\\lib\\site-packages (from ultralytics) (1.14.0)\n",
      "Requirement already satisfied: torch>=1.8.0 in c:\\dev\\langs\\python311\\lib\\site-packages (from ultralytics) (2.4.0)\n",
      "Requirement already satisfied: torchvision>=0.9.0 in c:\\dev\\langs\\python311\\lib\\site-packages (from ultralytics) (0.19.0)\n",
      "Requirement already satisfied: tqdm>=4.64.0 in c:\\dev\\langs\\python311\\lib\\site-packages (from ultralytics) (4.66.4)\n",
      "Requirement already satisfied: psutil in c:\\users\\user\\appdata\\roaming\\python\\python311\\site-packages (from ultralytics) (5.9.8)\n",
      "Requirement already satisfied: py-cpuinfo in c:\\dev\\langs\\python311\\lib\\site-packages (from ultralytics) (9.0.0)\n",
      "Requirement already satisfied: pandas>=1.1.4 in c:\\dev\\langs\\python311\\lib\\site-packages (from ultralytics) (2.2.0)\n",
      "Requirement already satisfied: seaborn>=0.11.0 in c:\\dev\\langs\\python311\\lib\\site-packages (from ultralytics) (0.13.2)\n",
      "Requirement already satisfied: ultralytics-thop>=2.0.0 in c:\\dev\\langs\\python311\\lib\\site-packages (from ultralytics) (2.0.0)\n",
      "Requirement already satisfied: contourpy>=1.0.1 in c:\\dev\\langs\\python311\\lib\\site-packages (from matplotlib>=3.3.0->ultralytics) (1.2.0)\n",
      "Requirement already satisfied: cycler>=0.10 in c:\\dev\\langs\\python311\\lib\\site-packages (from matplotlib>=3.3.0->ultralytics) (0.12.1)\n",
      "Requirement already satisfied: fonttools>=4.22.0 in c:\\dev\\langs\\python311\\lib\\site-packages (from matplotlib>=3.3.0->ultralytics) (4.47.2)\n",
      "Requirement already satisfied: kiwisolver>=1.3.1 in c:\\dev\\langs\\python311\\lib\\site-packages (from matplotlib>=3.3.0->ultralytics) (1.4.5)\n",
      "Requirement already satisfied: packaging>=20.0 in c:\\users\\user\\appdata\\roaming\\python\\python311\\site-packages (from matplotlib>=3.3.0->ultralytics) (23.2)\n",
      "Requirement already satisfied: pyparsing>=2.3.1 in c:\\dev\\langs\\python311\\lib\\site-packages (from matplotlib>=3.3.0->ultralytics) (3.1.1)\n",
      "Requirement already satisfied: python-dateutil>=2.7 in c:\\users\\user\\appdata\\roaming\\python\\python311\\site-packages (from matplotlib>=3.3.0->ultralytics) (2.8.2)\n",
      "Requirement already satisfied: pytz>=2020.1 in c:\\dev\\langs\\python311\\lib\\site-packages (from pandas>=1.1.4->ultralytics) (2024.1)\n",
      "Requirement already satisfied: tzdata>=2022.7 in c:\\dev\\langs\\python311\\lib\\site-packages (from pandas>=1.1.4->ultralytics) (2024.1)\n",
      "Requirement already satisfied: charset-normalizer<4,>=2 in c:\\dev\\langs\\python311\\lib\\site-packages (from requests>=2.23.0->ultralytics) (3.3.2)\n",
      "Requirement already satisfied: idna<4,>=2.5 in c:\\dev\\langs\\python311\\lib\\site-packages (from requests>=2.23.0->ultralytics) (3.6)\n",
      "Requirement already satisfied: urllib3<3,>=1.21.1 in c:\\dev\\langs\\python311\\lib\\site-packages (from requests>=2.23.0->ultralytics) (2.2.0)\n",
      "Requirement already satisfied: certifi>=2017.4.17 in c:\\dev\\langs\\python311\\lib\\site-packages (from requests>=2.23.0->ultralytics) (2023.11.17)\n",
      "Requirement already satisfied: filelock in c:\\dev\\langs\\python311\\lib\\site-packages (from torch>=1.8.0->ultralytics) (3.13.1)\n",
      "Requirement already satisfied: typing-extensions>=4.8.0 in c:\\dev\\langs\\python311\\lib\\site-packages (from torch>=1.8.0->ultralytics) (4.9.0)\n",
      "Requirement already satisfied: sympy in c:\\dev\\langs\\python311\\lib\\site-packages (from torch>=1.8.0->ultralytics) (1.13.1)\n",
      "Requirement already satisfied: networkx in c:\\dev\\langs\\python311\\lib\\site-packages (from torch>=1.8.0->ultralytics) (3.3)\n",
      "Requirement already satisfied: jinja2 in c:\\dev\\langs\\python311\\lib\\site-packages (from torch>=1.8.0->ultralytics) (3.1.3)\n",
      "Requirement already satisfied: fsspec in c:\\dev\\langs\\python311\\lib\\site-packages (from torch>=1.8.0->ultralytics) (2024.6.1)\n",
      "Requirement already satisfied: colorama in c:\\users\\user\\appdata\\roaming\\python\\python311\\site-packages (from tqdm>=4.64.0->ultralytics) (0.4.6)\n",
      "Requirement already satisfied: six>=1.5 in c:\\users\\user\\appdata\\roaming\\python\\python311\\site-packages (from python-dateutil>=2.7->matplotlib>=3.3.0->ultralytics) (1.16.0)\n",
      "Requirement already satisfied: MarkupSafe>=2.0 in c:\\dev\\langs\\python311\\lib\\site-packages (from jinja2->torch>=1.8.0->ultralytics) (2.1.4)\n",
      "Requirement already satisfied: mpmath<1.4,>=1.1.0 in c:\\dev\\langs\\python311\\lib\\site-packages (from sympy->torch>=1.8.0->ultralytics) (1.3.0)\n"
     ]
    }
   ],
   "source": [
    "!pip install ultralytics"
   ]
  },
  {
   "cell_type": "code",
   "execution_count": 2,
   "metadata": {},
   "outputs": [],
   "source": [
    "from ultralytics import YOLO"
   ]
  },
  {
   "cell_type": "code",
   "execution_count": 2,
   "metadata": {},
   "outputs": [
    {
     "name": "stdout",
     "output_type": "stream",
     "text": [
      "Downloading https://github.com/ultralytics/assets/releases/download/v8.2.0/yolov8n.pt to 'yolov8n.pt'...\n",
      "Ultralytics YOLOv8.2.76 🚀 Python-3.11.5 torch-2.4.0+cpu CPU (Intel Core(TM) i7-10700 2.90GHz)\n",
      "YOLOv8n summary (fused): 168 layers, 3,151,904 parameters, 0 gradients, 8.7 GFLOPs\n",
      "\n",
      "Downloading https://ultralytics.com/images/bus.jpg to 'bus.jpg'...\n",
      "image 1/1 c:\\Sources\\IoT-bigdata-2024\\day8\\bus.jpg: 640x480 1 person, 2 bicycles, 12 cars, 2 motorcycles, 4 airplanes, 1 bus, 6 trains, 1 truck, 68 boats, 2 traffic lights, 4 fire hydrants, 27 stop signs, 8 parking meters, 2 benchs, 2 birds, 2 cats, 4 dogs, 4 horses, 15 sheeps, 4 cows, 2 elephants, 15 bears, 1 zebra, 1 giraffe, 1 backpack, 1 umbrella, 3 handbags, 2 suitcases, 11 frisbees, 7 skiss, 8 snowboards, 1 sports ball, 4 knifes, 10 spoons, 1 apple, 2 sandwichs, 1 carrot, 7 donuts, 1 cake, 3 couchs, 13 beds, 17 dining tables, 10 remotes, 6 cell phones, 1 clock, 263.8ms\n",
      "Speed: 9.8ms preprocess, 263.8ms inference, 20.3ms postprocess per image at shape (1, 3, 640, 480)\n",
      "Results saved to \u001b[1mruns\\detect\\predict\u001b[0m\n",
      "💡 Learn more at https://docs.ultralytics.com/modes/predict\n"
     ]
    },
    {
     "name": "stderr",
     "output_type": "stream",
     "text": [
      "\n",
      "  0%|          | 0.00/6.25M [00:00<?, ?B/s]\n",
      " 16%|█▌        | 1.00M/6.25M [00:00<00:00, 9.65MB/s]\n",
      " 36%|███▌      | 2.25M/6.25M [00:00<00:00, 11.0MB/s]\n",
      " 54%|█████▍    | 3.38M/6.25M [00:00<00:00, 11.3MB/s]\n",
      " 72%|███████▏  | 4.50M/6.25M [00:00<00:00, 11.5MB/s]\n",
      " 90%|█████████ | 5.62M/6.25M [00:00<00:00, 11.0MB/s]\n",
      "100%|██████████| 6.25M/6.25M [00:00<00:00, 11.0MB/s]\n",
      "\n",
      "  0%|          | 0.00/134k [00:00<?, ?B/s]\n",
      "100%|██████████| 134k/134k [00:00<00:00, 2.51MB/s]\n"
     ]
    }
   ],
   "source": [
    "## 콘솔창에서 테스트하는 방법, 트레이닝한 이미지 처리 모델\n",
    "!yolo predict model=yolov8n.pt source='https://ultralytics.com/images/bus.jpg'"
   ]
  },
  {
   "cell_type": "code",
   "execution_count": 4,
   "metadata": {},
   "outputs": [],
   "source": [
    "from ultralytics import YOLO"
   ]
  },
  {
   "cell_type": "code",
   "execution_count": null,
   "metadata": {},
   "outputs": [],
   "source": []
  },
  {
   "cell_type": "code",
   "execution_count": 5,
   "metadata": {},
   "outputs": [
    {
     "name": "stdout",
     "output_type": "stream",
     "text": [
      "\n",
      "image 1/1 c:\\Sources\\IoT-bigdata-2024\\day8\\KakaoTalk_20240812_151755471.jpg: 384x640 22 persons, 25 cars, 6 airplanes, 6 buss, 3 trains, 3 trucks, 40 boats, 3 traffic lights, 36 fire hydrants, 3 stop signs, 26 parking meters, 11 benchs, 6 birds, 11 cats, 2 horses, 1 backpack, 2 umbrellas, 14 handbags, 9 frisbees, 1 snowboard, 11 sports balls, 1 baseball bat, 4 skateboards, 11 bottles, 3 couchs, 2 potted plants, 12 beds, 3 dining tables, 1 laptop, 7 mouses, 5 remotes, 8 cell phones, 1 clock, 1 hair drier, 170.3ms\n",
      "Speed: 5.0ms preprocess, 170.3ms inference, 17.9ms postprocess per image at shape (1, 3, 384, 640)\n"
     ]
    }
   ],
   "source": [
    "# 이미지와 openCV 물체감지\n",
    "model = YOLO(model='./yolov8n.pt')\n",
    "\n",
    "result = model('./KakaoTalk_20240812_151755471.jpg')\n",
    "plots = result[0].plot()\n",
    "height, width = plots.shape[0], plots.shape[1]\n",
    "last = cv2.resize(plots, (800, 450))\n",
    "\n",
    "cv2.imshow('yolo', last)\n",
    "cv2.waitKey(0)\n",
    "cv2.destroyAllWindows()"
   ]
  },
  {
   "cell_type": "code",
   "execution_count": 16,
   "metadata": {},
   "outputs": [],
   "source": [
    "## 실시간 가능, 동영상도 가능\n",
    "classNames = [\n",
    "                \"person\", \"bicycle\", \"car\", \"motorbike\", \"airplane\", \"bus\", \"train\", \"truck\", \"boat\",\n",
    "                \"traffic light\", \"fire hydrant\", \"stop sign\", \"parking meter\", \"bench\", \"bird\", \"cat\",\n",
    "                \"dog\", \"horse\", \"sheep\", \"cow\", \"elephant\", \"bear\", \"zebra\", \"giraffe\", \"backpack\", \"umbrella\",\n",
    "                \"handbag\", \"tie\", \"suitcase\", \"frisbee\", \"skis\", \"snowboard\", \"sports ball\", \"kite\", \"baseball bat\",\n",
    "                \"baseball glove\", \"skateboard\", \"surfboard\", \"tennis racket\", \"bottle\", \"wine glass\", \"cup\",\n",
    "                \"fork\", \"knife\", \"spoon\", \"bowl\", \"banana\", \"apple\", \"sandwich\", \"orange\", \"broccoli\",\n",
    "                \"carrot\", \"hot dog\", \"pizza\", \"donut\", \"cake\", \"chair\", \"sofa\", \"pottedplant\", \"bed\",\n",
    "                \"diningtable\", \"toilet\", \"tvmonitor\", \"laptop\", \"mouse\", \"remote\", \"keyboard\", \"cell phone\",\n",
    "                \"microwave\", \"oven\", \"toaster\", \"sink\", \"refrigerator\", \"book\", \"clock\", \"vase\", \"scissors\",\n",
    "                \"teddy bear\", \"hair drier\", \"toothbrush\"\n",
    "              ]"
   ]
  },
  {
   "cell_type": "code",
   "execution_count": 12,
   "metadata": {},
   "outputs": [
    {
     "ename": "error",
     "evalue": "OpenCV(4.10.0) :-1: error: (-5:Bad argument) in function 'imshow'\n> Overload resolution failed:\n>  - mat is not a numpy array, neither a scalar\n>  - Expected Ptr<cv::cuda::GpuMat> for argument 'mat'\n>  - Expected Ptr<cv::UMat> for argument 'mat'\n",
     "output_type": "error",
     "traceback": [
      "\u001b[1;31m---------------------------------------------------------------------------\u001b[0m",
      "\u001b[1;31merror\u001b[0m                                     Traceback (most recent call last)",
      "Cell \u001b[1;32mIn[12], line 14\u001b[0m\n\u001b[0;32m     12\u001b[0m \u001b[38;5;66;03m# YOLO로 물체검출 시작\u001b[39;00m\n\u001b[0;32m     13\u001b[0m results \u001b[38;5;241m=\u001b[39m model(half, stream\u001b[38;5;241m=\u001b[39m\u001b[38;5;28;01mTrue\u001b[39;00m)\n\u001b[1;32m---> 14\u001b[0m \u001b[43mcv2\u001b[49m\u001b[38;5;241;43m.\u001b[39;49m\u001b[43mimshow\u001b[49m\u001b[43m(\u001b[49m\u001b[38;5;124;43m'\u001b[39;49m\u001b[38;5;124;43mYOLOv8\u001b[39;49m\u001b[38;5;124;43m'\u001b[39;49m\u001b[43m,\u001b[49m\u001b[43m \u001b[49m\u001b[43mresult\u001b[49m\u001b[43m)\u001b[49m   \n\u001b[0;32m     16\u001b[0m \u001b[38;5;66;03m## 결과표시 like OpenCV 얼굴검출\u001b[39;00m\n\u001b[0;32m     17\u001b[0m \u001b[38;5;28;01mfor\u001b[39;00m result \u001b[38;5;129;01min\u001b[39;00m results:\n",
      "File \u001b[1;32mc:\\DEV\\Langs\\Python311\\Lib\\site-packages\\ultralytics\\utils\\patches.py:56\u001b[0m, in \u001b[0;36mimshow\u001b[1;34m(winname, mat)\u001b[0m\n\u001b[0;32m     48\u001b[0m \u001b[38;5;28;01mdef\u001b[39;00m \u001b[38;5;21mimshow\u001b[39m(winname: \u001b[38;5;28mstr\u001b[39m, mat: np\u001b[38;5;241m.\u001b[39mndarray):\n\u001b[0;32m     49\u001b[0m \u001b[38;5;250m    \u001b[39m\u001b[38;5;124;03m\"\"\"\u001b[39;00m\n\u001b[0;32m     50\u001b[0m \u001b[38;5;124;03m    Displays an image in the specified window.\u001b[39;00m\n\u001b[0;32m     51\u001b[0m \n\u001b[1;32m   (...)\u001b[0m\n\u001b[0;32m     54\u001b[0m \u001b[38;5;124;03m        mat (np.ndarray): Image to be shown.\u001b[39;00m\n\u001b[0;32m     55\u001b[0m \u001b[38;5;124;03m    \"\"\"\u001b[39;00m\n\u001b[1;32m---> 56\u001b[0m     \u001b[43m_imshow\u001b[49m\u001b[43m(\u001b[49m\u001b[43mwinname\u001b[49m\u001b[38;5;241;43m.\u001b[39;49m\u001b[43mencode\u001b[49m\u001b[43m(\u001b[49m\u001b[38;5;124;43m\"\u001b[39;49m\u001b[38;5;124;43municode_escape\u001b[39;49m\u001b[38;5;124;43m\"\u001b[39;49m\u001b[43m)\u001b[49m\u001b[38;5;241;43m.\u001b[39;49m\u001b[43mdecode\u001b[49m\u001b[43m(\u001b[49m\u001b[43m)\u001b[49m\u001b[43m,\u001b[49m\u001b[43m \u001b[49m\u001b[43mmat\u001b[49m\u001b[43m)\u001b[49m\n",
      "\u001b[1;31merror\u001b[0m: OpenCV(4.10.0) :-1: error: (-5:Bad argument) in function 'imshow'\n> Overload resolution failed:\n>  - mat is not a numpy array, neither a scalar\n>  - Expected Ptr<cv::cuda::GpuMat> for argument 'mat'\n>  - Expected Ptr<cv::UMat> for argument 'mat'\n"
     ]
    }
   ],
   "source": [
    "Video_path = './Mumbai_traffic.mp4'\n",
    "\n",
    "cap = cv2.VideoCapture(Video_path)\n",
    "\n",
    "\n",
    "while (cap.isOpened()):\n",
    "    ret, img = cap.read()\n",
    "    if ret == True:\n",
    "        height, width = img.shape[0], img.shape[1]\n",
    "        half = cv2.resize(img, (int(width/2), int(height/2)))\n",
    "        \n",
    "        # YOLO로 물체검출 시작\n",
    "        results = model(half, stream=True)\n",
    "        cv2.imshow('YOLOv8', result)   \n",
    "\n",
    "        ## 결과표시 like OpenCV 얼굴검출\n",
    "        for result in results:\n",
    "            boxes = result.boxes\n",
    "\n",
    "            for box in boxes:\n",
    "                x1, y1, x2, y2 = box.xyxy[0]\n",
    "                x1, y1, x2, y2 = int(x1), int(y1), int(x2), int(y2)\n",
    "\n",
    "                cv2.rectangle(half, (x1,y1), (x2,y2), (0,255,255), 2)\n",
    "        \n",
    "        cv2.imshow('YOLOv8', half)\n",
    "\n",
    "\n",
    "        if cv2.waitKey(1) == ord('q'): \n",
    "            break\n",
    "    else:\n",
    "        break\n",
    "\n",
    "\n",
    "cap.release() # 자원 해제\n",
    "cv2.destroyAllWindows()"
   ]
  },
  {
   "cell_type": "code",
   "execution_count": 14,
   "metadata": {},
   "outputs": [],
   "source": [
    "import math"
   ]
  },
  {
   "cell_type": "code",
   "execution_count": 23,
   "metadata": {},
   "outputs": [
    {
     "name": "stdout",
     "output_type": "stream",
     "text": [
      "\n",
      "0: 384x640 22 persons, 5 bicycles, 62 cars, 2 motorcycles, 19 airplanes, 5 buss, 2 trains, 1 truck, 29 boats, 7 fire hydrants, 5 stop signs, 8 parking meters, 11 benchs, 2 birds, 9 cats, 5 dogs, 2 horses, 1 sheep, 3 cows, 2 bears, 5 umbrellas, 2 handbags, 5 frisbees, 3 snowboards, 2 bowls, 3 pizzas, 6 donuts, 3 couchs, 35 beds, 7 dining tables, 2 mouses, 8 remotes, 15 cell phones, 1 sink, 1 clock, 181.1ms\n",
      "Speed: 2.6ms preprocess, 181.1ms inference, 13.7ms postprocess per image at shape (1, 3, 384, 640)\n",
      "\n",
      "0: 384x640 19 persons, 9 bicycles, 5 cars, 11 motorcycles, 6 airplanes, 6 trains, 4 traffic lights, 3 fire hydrants, 35 stop signs, 15 parking meters, 1 bird, 9 cats, 15 dogs, 13 horses, 20 bears, 3 backpacks, 23 umbrellas, 18 handbags, 31 ties, 1 frisbee, 4 bottles, 2 wine glasss, 1 cup, 3 knifes, 14 spoons, 1 apple, 1 pizza, 1 cake, 2 couchs, 1 potted plant, 3 beds, 8 dining tables, 1 tv, 1 mouse, 3 remotes, 1 keyboard, 1 oven, 2 refrigerators, 1 clock, 2 teddy bears, 163.1ms\n",
      "Speed: 2.0ms preprocess, 163.1ms inference, 18.1ms postprocess per image at shape (1, 3, 384, 640)\n",
      "\n",
      "0: 384x640 1 person, 1 bicycle, 1 motorcycle, 20 airplanes, 5 trains, 100 boats, 1 stop sign, 1 parking meter, 1 bird, 1 horse, 3 bears, 1 giraffe, 26 umbrellas, 4 handbags, 5 suitcases, 9 frisbees, 3 snowboards, 1 baseball bat, 4 surfboards, 4 bottles, 2 knifes, 11 spoons, 3 bananas, 1 potted plant, 15 beds, 66 dining tables, 2 laptops, 2 cell phones, 6 sinks, 171.5ms\n",
      "Speed: 0.0ms preprocess, 171.5ms inference, 14.7ms postprocess per image at shape (1, 3, 384, 640)\n",
      "\n",
      "0: 384x640 7 bicycles, 1 car, 32 motorcycles, 16 trains, 1 truck, 84 boats, 4 fire hydrants, 21 stop signs, 7 parking meters, 5 benchs, 1 dog, 2 horses, 8 bears, 2 backpacks, 29 umbrellas, 11 handbags, 22 suitcases, 1 frisbee, 1 snowboard, 1 sports ball, 2 surfboards, 4 knifes, 18 spoons, 5 oranges, 1 cake, 10 dining tables, 1 remote, 2 keyboards, 1 clock, 166.6ms\n",
      "Speed: 0.0ms preprocess, 166.6ms inference, 22.3ms postprocess per image at shape (1, 3, 384, 640)\n",
      "\n",
      "0: 384x640 15 persons, 11 bicycles, 29 cars, 7 motorcycles, 7 airplanes, 6 trains, 1 truck, 19 boats, 8 traffic lights, 9 fire hydrants, 15 stop signs, 10 parking meters, 11 benchs, 1 bird, 4 cats, 14 dogs, 2 horses, 2 sheeps, 1 elephant, 6 bears, 5 backpacks, 1 umbrella, 4 handbags, 2 ties, 1 suitcase, 9 skiss, 4 snowboards, 4 sports balls, 2 surfboards, 3 bottles, 5 forks, 34 knifes, 13 spoons, 1 bowl, 1 apple, 2 sandwichs, 4 beds, 10 dining tables, 5 mouses, 3 remotes, 1 keyboard, 2 cell phones, 1 toaster, 1 refrigerator, 1 clock, 2 hair driers, 1 toothbrush, 165.5ms\n",
      "Speed: 1.5ms preprocess, 165.5ms inference, 13.7ms postprocess per image at shape (1, 3, 384, 640)\n",
      "\n",
      "0: 384x640 5 persons, 4 bicycles, 6 cars, 1 bus, 11 trains, 8 boats, 4 traffic lights, 5 fire hydrants, 44 stop signs, 18 parking meters, 1 bird, 2 cats, 6 dogs, 2 horses, 3 elephants, 23 bears, 9 giraffes, 14 backpacks, 36 umbrellas, 26 handbags, 14 ties, 1 suitcase, 8 frisbees, 5 sports balls, 10 bottles, 3 cups, 2 knifes, 7 spoons, 1 bowl, 1 apple, 2 sandwichs, 1 pizza, 1 cake, 1 couch, 1 potted plant, 1 bed, 3 tvs, 1 mouse, 2 remotes, 1 keyboard, 4 clocks, 1 teddy bear, 1 hair drier, 161.6ms\n",
      "Speed: 0.0ms preprocess, 161.6ms inference, 2.6ms postprocess per image at shape (1, 3, 384, 640)\n",
      "\n",
      "0: 384x640 20 persons, 21 bicycles, 8 cars, 27 motorcycles, 1 bus, 19 trains, 4 boats, 2 traffic lights, 11 fire hydrants, 27 stop signs, 14 parking meters, 3 benchs, 1 bird, 13 cats, 11 dogs, 21 horses, 4 cows, 7 elephants, 17 bears, 7 backpacks, 17 umbrellas, 4 ties, 3 suitcases, 2 sports balls, 1 bottle, 5 knifes, 9 spoons, 1 chair, 4 couchs, 4 dining tables, 3 tvs, 4 mouses, 1 remote, 1 keyboard, 2 ovens, 1 refrigerator, 145.7ms\n",
      "Speed: 0.7ms preprocess, 145.7ms inference, 16.7ms postprocess per image at shape (1, 3, 384, 640)\n",
      "\n",
      "0: 384x640 12 persons, 3 bicycles, 11 cars, 12 airplanes, 2 buss, 1 train, 1 truck, 6 traffic lights, 7 fire hydrants, 25 stop signs, 11 parking meters, 6 birds, 23 cats, 6 dogs, 13 horses, 2 sheeps, 1 cow, 3 bears, 4 backpacks, 8 umbrellas, 10 handbags, 20 ties, 1 frisbee, 3 sports balls, 1 baseball bat, 1 baseball glove, 5 bottles, 6 wine glasss, 2 cups, 16 knifes, 2 spoons, 2 bowls, 6 donuts, 2 cakes, 7 couchs, 6 beds, 9 dining tables, 1 toilet, 2 laptops, 4 mouses, 18 remotes, 1 keyboard, 8 cell phones, 1 toaster, 2 sinks, 3 clocks, 1 vase, 1 hair drier, 2 toothbrushs, 173.9ms\n",
      "Speed: 1.0ms preprocess, 173.9ms inference, 11.5ms postprocess per image at shape (1, 3, 384, 640)\n",
      "\n",
      "0: 384x640 13 persons, 7 bicycles, 37 cars, 4 motorcycles, 19 airplanes, 3 buss, 9 trains, 4 trucks, 4 boats, 1 traffic light, 3 fire hydrants, 17 stop signs, 4 parking meters, 6 benchs, 1 bird, 9 dogs, 12 horses, 2 sheeps, 4 elephants, 9 bears, 3 giraffes, 4 backpacks, 30 umbrellas, 6 handbags, 1 tie, 2 suitcases, 4 frisbees, 1 sports ball, 1 baseball bat, 2 knifes, 1 spoon, 1 bowl, 1 apple, 2 sandwichs, 1 orange, 1 donut, 2 cakes, 15 couchs, 1 potted plant, 20 beds, 5 dining tables, 3 toilets, 5 mouses, 9 remotes, 7 cell phones, 1 oven, 3 toothbrushs, 184.9ms\n",
      "Speed: 0.0ms preprocess, 184.9ms inference, 2.0ms postprocess per image at shape (1, 3, 384, 640)\n",
      "\n",
      "0: 384x640 6 persons, 14 bicycles, 48 cars, 3 motorcycles, 8 airplanes, 7 buss, 40 trains, 21 trucks, 1 boat, 3 traffic lights, 9 fire hydrants, 20 stop signs, 8 parking meters, 1 bench, 1 bird, 3 cats, 2 dogs, 18 horses, 1 sheep, 6 cows, 5 elephants, 15 bears, 9 zebras, 3 giraffes, 1 backpack, 8 umbrellas, 2 handbags, 2 ties, 4 sports balls, 1 baseball glove, 1 bottle, 1 spoon, 2 apples, 1 cake, 10 couchs, 5 beds, 1 dining table, 1 tv, 3 mouses, 1 remote, 1 keyboard, 3 clocks, 160.4ms\n",
      "Speed: 1.5ms preprocess, 160.4ms inference, 0.0ms postprocess per image at shape (1, 3, 384, 640)\n",
      "\n",
      "0: 384x640 1 person, 6 bicycles, 8 cars, 33 motorcycles, 1 airplane, 17 trains, 3 trucks, 13 boats, 4 traffic lights, 27 fire hydrants, 73 stop signs, 30 parking meters, 6 dogs, 1 horse, 9 bears, 1 backpack, 26 umbrellas, 2 handbags, 1 tie, 1 suitcase, 13 sports balls, 1 surfboard, 6 bottles, 2 knifes, 2 spoons, 1 couch, 1 bed, 6 dining tables, 1 remote, 2 keyboards, 1 clock, 1 teddy bear, 149.6ms\n",
      "Speed: 0.0ms preprocess, 149.6ms inference, 16.8ms postprocess per image at shape (1, 3, 384, 640)\n",
      "\n",
      "0: 384x640 2 persons, 4 motorcycles, 2 airplanes, 1 train, 1 truck, 27 boats, 1 traffic light, 4 fire hydrants, 16 stop signs, 1 parking meter, 1 bench, 2 cats, 9 dogs, 1 horse, 19 bears, 8 giraffes, 25 backpacks, 39 umbrellas, 53 handbags, 5 ties, 15 frisbees, 1 snowboard, 4 sports balls, 1 baseball glove, 2 surfboards, 1 bottle, 1 spoon, 1 banana, 2 apples, 4 oranges, 1 potted plant, 4 beds, 36 dining tables, 1 cell phone, 2 sinks, 2 refrigerators, 1 teddy bear, 166.7ms\n",
      "Speed: 0.0ms preprocess, 166.7ms inference, 6.0ms postprocess per image at shape (1, 3, 384, 640)\n",
      "\n",
      "0: 384x640 2 persons, 31 cars, 1 motorcycle, 8 airplanes, 7 trains, 2 trucks, 80 boats, 19 fire hydrants, 1 stop sign, 4 parking meters, 9 benchs, 4 cats, 3 dogs, 15 bears, 1 giraffe, 1 backpack, 11 umbrellas, 18 handbags, 2 suitcases, 16 frisbees, 3 skiss, 5 snowboards, 1 bottle, 6 knifes, 2 spoons, 1 orange, 1 pizza, 1 donut, 7 beds, 9 dining tables, 1 mouse, 5 remotes, 5 keyboards, 3 cell phones, 13 sinks, 1 clock, 1 toothbrush, 143.3ms\n",
      "Speed: 4.5ms preprocess, 143.3ms inference, 16.7ms postprocess per image at shape (1, 3, 384, 640)\n",
      "\n",
      "0: 384x640 13 persons, 7 bicycles, 20 cars, 2 motorcycles, 5 airplanes, 8 trains, 4 boats, 2 traffic lights, 6 fire hydrants, 20 stop signs, 12 parking meters, 1 bench, 2 birds, 7 cats, 9 dogs, 8 horses, 3 sheeps, 16 cows, 3 elephants, 44 bears, 4 backpacks, 19 umbrellas, 2 handbags, 17 ties, 3 suitcases, 4 frisbees, 2 skiss, 3 snowboards, 3 sports balls, 9 bottles, 1 wine glass, 12 knifes, 10 spoons, 1 cake, 1 couch, 5 dining tables, 3 tvs, 3 mouses, 1 remote, 2 ovens, 2 refrigerators, 1 clock, 166.2ms\n",
      "Speed: 0.0ms preprocess, 166.2ms inference, 16.2ms postprocess per image at shape (1, 3, 384, 640)\n",
      "\n",
      "0: 384x640 46 persons, 26 bicycles, 12 cars, 13 motorcycles, 9 airplanes, 2 buss, 47 boats, 5 traffic lights, 3 fire hydrants, 65 stop signs, 32 parking meters, 1 bird, 1 horse, 1 backpack, 1 umbrella, 4 handbags, 3 frisbees, 7 sports balls, 1 baseball bat, 1 baseball glove, 11 bottles, 1 spoon, 1 banana, 1 apple, 5 dining tables, 1 clock, 149.7ms\n",
      "Speed: 0.0ms preprocess, 149.7ms inference, 24.0ms postprocess per image at shape (1, 3, 384, 640)\n",
      "\n",
      "0: 384x640 3 persons, 14 bicycles, 24 cars, 7 airplanes, 8 buss, 78 trains, 2 trucks, 1 boat, 4 traffic lights, 12 fire hydrants, 6 stop signs, 16 parking meters, 11 benchs, 3 cats, 7 dogs, 6 horses, 4 elephants, 7 bears, 2 zebras, 1 giraffe, 5 umbrellas, 1 tie, 4 suitcases, 1 skis, 3 snowboards, 2 sports balls, 7 baseball bats, 1 skateboard, 2 bottles, 2 forks, 15 knifes, 13 spoons, 5 couchs, 10 beds, 1 mouse, 9 keyboards, 2 clocks, 1 toothbrush, 159.3ms\n",
      "Speed: 0.0ms preprocess, 159.3ms inference, 7.2ms postprocess per image at shape (1, 3, 384, 640)\n",
      "\n",
      "0: 384x640 2 persons, 4 cars, 4 motorcycles, 23 airplanes, 3 buss, 21 trains, 61 boats, 1 traffic light, 1 fire hydrant, 1 parking meter, 2 cats, 5 dogs, 6 horses, 27 bears, 2 giraffes, 10 backpacks, 29 umbrellas, 1 handbag, 19 frisbees, 1 snowboard, 1 baseball glove, 1 bottle, 3 knifes, 48 spoons, 1 cake, 1 bed, 17 dining tables, 2 tvs, 2 keyboards, 1 sink, 143.2ms\n",
      "Speed: 2.0ms preprocess, 143.2ms inference, 16.7ms postprocess per image at shape (1, 3, 384, 640)\n",
      "\n",
      "0: 384x640 2 cars, 14 motorcycles, 2 buss, 8 trains, 1 truck, 62 boats, 1 fire hydrant, 4 stop signs, 3 parking meters, 22 benchs, 6 cats, 7 dogs, 4 horses, 4 bears, 13 backpacks, 22 umbrellas, 33 handbags, 40 suitcases, 1 frisbee, 2 spoons, 1 bowl, 1 cake, 24 beds, 13 dining tables, 2 remotes, 7 cell phones, 1 sink, 162.1ms\n",
      "Speed: 0.0ms preprocess, 162.1ms inference, 11.0ms postprocess per image at shape (1, 3, 384, 640)\n",
      "\n",
      "0: 384x640 11 persons, 13 bicycles, 8 cars, 17 motorcycles, 7 airplanes, 20 trains, 3 trucks, 25 boats, 4 traffic lights, 17 fire hydrants, 27 stop signs, 22 parking meters, 7 dogs, 4 horses, 6 bears, 1 giraffe, 12 umbrellas, 5 handbags, 1 suitcase, 3 frisbees, 26 sports balls, 3 surfboards, 12 bottles, 1 fork, 7 knifes, 10 spoons, 1 bowl, 1 banana, 1 sandwich, 2 oranges, 1 pizza, 1 cake, 1 potted plant, 1 bed, 6 dining tables, 6 remotes, 5 keyboards, 1 clock, 1 teddy bear, 145.9ms\n",
      "Speed: 2.0ms preprocess, 145.9ms inference, 16.7ms postprocess per image at shape (1, 3, 384, 640)\n",
      "\n",
      "0: 384x640 6 persons, 1 bicycle, 1 motorcycle, 2 airplanes, 16 boats, 1 traffic light, 7 fire hydrants, 10 stop signs, 2 benchs, 17 birds, 74 cats, 7 dogs, 1 horse, 2 bears, 1 giraffe, 16 backpacks, 13 umbrellas, 42 handbags, 11 ties, 17 frisbees, 3 sports balls, 1 baseball glove, 1 bottle, 3 knifes, 2 spoons, 2 bananas, 1 apple, 1 orange, 2 cakes, 2 beds, 20 dining tables, 3 laptops, 1 mouse, 3 remotes, 5 cell phones, 1 sink, 2 books, 149.9ms\n",
      "Speed: 0.0ms preprocess, 149.9ms inference, 16.7ms postprocess per image at shape (1, 3, 384, 640)\n",
      "\n",
      "0: 384x640 19 persons, 6 bicycles, 12 cars, 6 motorcycles, 20 airplanes, 1 train, 1 truck, 13 boats, 3 traffic lights, 2 fire hydrants, 14 stop signs, 16 parking meters, 2 benchs, 1 bird, 18 cats, 10 dogs, 3 horses, 1 sheep, 1 cow, 1 elephant, 3 bears, 1 giraffe, 7 backpacks, 4 umbrellas, 2 handbags, 1 tie, 5 frisbees, 1 sports ball, 13 bottles, 1 wine glass, 46 knifes, 5 spoons, 1 bowl, 1 apple, 1 sandwich, 2 cakes, 3 couchs, 5 beds, 14 dining tables, 1 tv, 3 laptops, 1 mouse, 14 remotes, 9 cell phones, 3 ovens, 2 sinks, 1 refrigerator, 176.4ms\n",
      "Speed: 0.0ms preprocess, 176.4ms inference, 12.1ms postprocess per image at shape (1, 3, 384, 640)\n",
      "\n",
      "0: 384x640 14 persons, 2 bicycles, 7 cars, 3 airplanes, 2 buss, 1 train, 1 boat, 16 fire hydrants, 35 stop signs, 8 parking meters, 1 bird, 8 cats, 12 dogs, 1 horse, 22 bears, 4 backpacks, 16 umbrellas, 12 handbags, 18 ties, 1 frisbee, 1 skis, 4 snowboards, 1 sports ball, 1 surfboard, 1 bottle, 2 wine glasss, 2 forks, 39 knifes, 6 spoons, 1 orange, 2 donuts, 1 cake, 4 beds, 6 dining tables, 12 mouses, 20 remotes, 7 cell phones, 1 sink, 1 clock, 4 toothbrushs, 161.4ms\n",
      "Speed: 1.5ms preprocess, 161.4ms inference, 23.7ms postprocess per image at shape (1, 3, 384, 640)\n",
      "\n",
      "0: 384x640 24 persons, 1 bicycle, 46 cars, 10 airplanes, 3 trains, 14 boats, 4 traffic lights, 16 fire hydrants, 9 stop signs, 13 parking meters, 4 birds, 1 cat, 1 dog, 1 horse, 19 bears, 5 giraffes, 1 backpack, 32 umbrellas, 17 handbags, 9 frisbees, 7 snowboards, 2 sports balls, 1 bottle, 8 knifes, 1 spoon, 1 sandwich, 1 pizza, 1 donut, 3 beds, 5 dining tables, 5 mouses, 12 remotes, 1 keyboard, 4 cell phones, 10 sinks, 8 hair driers, 166.1ms\n",
      "Speed: 0.0ms preprocess, 166.1ms inference, 15.7ms postprocess per image at shape (1, 3, 384, 640)\n",
      "\n",
      "0: 384x640 9 persons, 76 cars, 3 motorcycles, 15 airplanes, 3 buss, 2 trains, 1 truck, 43 boats, 26 fire hydrants, 2 stop signs, 12 parking meters, 8 benchs, 9 birds, 12 cats, 1 dog, 3 horses, 4 cows, 3 bears, 1 backpack, 3 umbrellas, 8 handbags, 2 suitcases, 11 frisbees, 4 snowboards, 1 sports ball, 1 donut, 18 beds, 4 dining tables, 2 mouses, 5 remotes, 4 cell phones, 3 sinks, 1 book, 149.5ms\n",
      "Speed: 0.0ms preprocess, 149.5ms inference, 16.7ms postprocess per image at shape (1, 3, 384, 640)\n",
      "\n",
      "0: 384x640 2 persons, 2 airplanes, 1 bus, 6 trains, 8 boats, 1 traffic light, 17 fire hydrants, 54 stop signs, 14 parking meters, 9 birds, 1 cat, 2 dogs, 8 horses, 57 bears, 16 giraffes, 74 umbrellas, 4 handbags, 6 ties, 6 sports balls, 2 bottles, 1 spoon, 2 bananas, 1 orange, 1 pizza, 1 cake, 1 potted plant, 1 clock, 1 hair drier, 1 toothbrush, 162.9ms\n",
      "Speed: 0.0ms preprocess, 162.9ms inference, 1.5ms postprocess per image at shape (1, 3, 384, 640)\n",
      "\n",
      "0: 384x640 1 person, 12 bicycles, 5 cars, 4 motorcycles, 1 airplane, 5 buss, 36 trains, 20 boats, 4 fire hydrants, 6 stop signs, 19 parking meters, 2 cats, 13 dogs, 15 horses, 1 sheep, 3 elephants, 26 bears, 3 zebras, 6 backpacks, 15 umbrellas, 2 handbags, 2 ties, 2 sports balls, 5 bottles, 3 wine glasss, 8 knifes, 67 spoons, 1 apple, 1 donut, 1 potted plant, 2 dining tables, 1 tv, 1 laptop, 1 remote, 6 cell phones, 144.6ms\n",
      "Speed: 2.0ms preprocess, 144.6ms inference, 16.8ms postprocess per image at shape (1, 3, 384, 640)\n",
      "\n",
      "0: 384x640 3 persons, 9 cars, 13 motorcycles, 45 airplanes, 1 bus, 8 trains, 54 boats, 2 traffic lights, 4 fire hydrants, 12 stop signs, 2 birds, 3 cats, 2 dogs, 2 horses, 6 bears, 1 umbrella, 2 sports balls, 3 bottles, 30 spoons, 1 banana, 1 apple, 2 oranges, 1 broccoli, 5 cakes, 11 couchs, 31 beds, 43 dining tables, 3 tvs, 161.2ms\n",
      "Speed: 0.0ms preprocess, 161.2ms inference, 9.0ms postprocess per image at shape (1, 3, 384, 640)\n",
      "\n",
      "0: 384x640 16 persons, 9 bicycles, 8 cars, 10 motorcycles, 2 airplanes, 29 buss, 8 trains, 2 boats, 1 traffic light, 10 fire hydrants, 28 stop signs, 30 parking meters, 2 birds, 30 dogs, 12 horses, 3 sheeps, 3 elephants, 1 bear, 1 backpack, 27 umbrellas, 6 handbags, 1 suitcase, 13 frisbees, 1 snowboard, 4 sports balls, 3 surfboards, 5 bottles, 1 spoon, 8 apples, 3 carrots, 5 donuts, 4 cakes, 2 couchs, 1 potted plant, 3 beds, 4 dining tables, 2 mouses, 2 remotes, 153.7ms\n",
      "Speed: 2.0ms preprocess, 153.7ms inference, 16.7ms postprocess per image at shape (1, 3, 384, 640)\n",
      "\n",
      "0: 384x640 3 persons, 7 bicycles, 4 cars, 6 motorcycles, 12 airplanes, 1 train, 43 boats, 3 fire hydrants, 3 parking meters, 6 benchs, 1 bird, 8 cats, 9 dogs, 6 horses, 29 bears, 2 giraffes, 13 backpacks, 25 umbrellas, 28 handbags, 1 tie, 4 suitcases, 17 frisbees, 1 surfboard, 2 bottles, 7 knifes, 8 spoons, 2 cakes, 17 beds, 23 dining tables, 2 remotes, 3 cell phones, 4 sinks, 158.7ms\n",
      "Speed: 2.0ms preprocess, 158.7ms inference, 8.0ms postprocess per image at shape (1, 3, 384, 640)\n",
      "\n",
      "0: 384x640 1 bicycle, 6 cars, 2 motorcycles, 3 airplanes, 3 trains, 62 boats, 2 fire hydrants, 9 stop signs, 3 parking meters, 11 benchs, 1 cat, 3 dogs, 1 horse, 1 cow, 24 bears, 1 giraffe, 3 backpacks, 39 umbrellas, 8 handbags, 2 ties, 8 suitcases, 19 frisbees, 1 snowboard, 1 bottle, 9 knifes, 4 spoons, 1 donut, 1 potted plant, 14 beds, 31 dining tables, 2 mouses, 15 remotes, 1 keyboard, 7 cell phones, 1 sink, 156.6ms\n",
      "Speed: 2.0ms preprocess, 156.6ms inference, 9.1ms postprocess per image at shape (1, 3, 384, 640)\n",
      "\n",
      "0: 384x640 12 persons, 24 bicycles, 11 cars, 4 motorcycles, 7 airplanes, 7 buss, 52 trains, 7 trucks, 1 boat, 19 fire hydrants, 4 stop signs, 6 parking meters, 2 benchs, 9 cats, 22 dogs, 11 horses, 1 sheep, 8 elephants, 22 bears, 2 zebras, 6 giraffes, 2 backpacks, 36 umbrellas, 1 sports ball, 1 bottle, 5 knifes, 5 spoons, 1 broccoli, 1 donut, 1 cake, 2 couchs, 5 beds, 1 dining table, 1 remote, 1 keyboard, 159.0ms\n",
      "Speed: 1.0ms preprocess, 159.0ms inference, 7.0ms postprocess per image at shape (1, 3, 384, 640)\n",
      "\n",
      "0: 384x640 1 person, 1 bicycle, 4 airplanes, 5 trains, 21 boats, 2 traffic lights, 4 fire hydrants, 15 stop signs, 5 parking meters, 9 cats, 6 dogs, 3 bears, 12 backpacks, 5 umbrellas, 12 handbags, 29 ties, 2 suitcases, 14 frisbees, 1 sports ball, 3 baseball bats, 2 baseball gloves, 3 bottles, 12 wine glasss, 1 cup, 17 knifes, 41 spoons, 7 bowls, 1 apple, 8 cakes, 1 bed, 14 dining tables, 1 tv, 1 mouse, 2 remotes, 15 keyboards, 1 cell phone, 6 ovens, 2 toasters, 2 sinks, 1 clock, 6 vases, 2 toothbrushs, 161.6ms\n",
      "Speed: 1.0ms preprocess, 161.6ms inference, 9.0ms postprocess per image at shape (1, 3, 384, 640)\n",
      "\n",
      "0: 384x640 1 bicycle, 6 motorcycles, 6 airplanes, 17 trains, 58 boats, 1 traffic light, 1 fire hydrant, 15 stop signs, 1 parking meter, 11 dogs, 5 horses, 36 bears, 2 backpacks, 82 umbrellas, 10 handbags, 1 suitcase, 3 frisbees, 1 sports ball, 3 knifes, 17 spoons, 6 oranges, 2 cakes, 2 beds, 11 dining tables, 2 keyboards, 143.0ms\n",
      "Speed: 2.0ms preprocess, 143.0ms inference, 16.7ms postprocess per image at shape (1, 3, 384, 640)\n",
      "\n",
      "0: 384x640 13 persons, 2 bicycles, 10 cars, 2 motorcycles, 11 airplanes, 3 buss, 1 train, 1 traffic light, 28 fire hydrants, 5 stop signs, 17 parking meters, 1 bench, 5 birds, 6 cats, 4 dogs, 8 horses, 1 sheep, 7 bears, 3 giraffes, 2 backpacks, 28 umbrellas, 29 handbags, 8 ties, 3 suitcases, 6 frisbees, 3 snowboards, 2 sports balls, 3 baseball bats, 3 bottles, 3 knifes, 4 spoons, 1 sandwich, 2 pizzas, 1 donut, 3 couchs, 2 potted plants, 7 beds, 6 dining tables, 1 toilet, 2 tvs, 5 mouses, 19 remotes, 24 cell phones, 1 sink, 2 clocks, 1 teddy bear, 1 hair drier, 183.2ms\n",
      "Speed: 0.0ms preprocess, 183.2ms inference, 0.0ms postprocess per image at shape (1, 3, 384, 640)\n",
      "\n",
      "0: 384x640 10 persons, 5 bicycles, 4 cars, 15 motorcycles, 3 airplanes, 1 bus, 25 trains, 1 truck, 21 boats, 1 traffic light, 14 fire hydrants, 27 stop signs, 12 parking meters, 1 cat, 18 dogs, 6 horses, 28 bears, 1 backpack, 48 umbrellas, 8 handbags, 1 tie, 3 suitcases, 2 frisbees, 13 sports balls, 1 surfboard, 6 bottles, 1 knife, 14 spoons, 2 bananas, 2 oranges, 1 bed, 3 dining tables, 1 remote, 1 clock, 166.4ms\n",
      "Speed: 0.0ms preprocess, 166.4ms inference, 0.5ms postprocess per image at shape (1, 3, 384, 640)\n",
      "\n",
      "0: 384x640 8 bicycles, 10 cars, 2 motorcycles, 5 airplanes, 3 trains, 87 boats, 3 traffic lights, 1 fire hydrant, 6 stop signs, 4 benchs, 3 birds, 1 cat, 5 dogs, 1 horse, 12 bears, 11 backpacks, 31 umbrellas, 25 handbags, 6 suitcases, 22 frisbees, 3 sports balls, 1 surfboard, 1 bottle, 1 cup, 1 knife, 8 spoons, 1 couch, 11 beds, 16 dining tables, 4 remotes, 2 cell phones, 5 sinks, 153.3ms\n",
      "Speed: 0.0ms preprocess, 153.3ms inference, 14.2ms postprocess per image at shape (1, 3, 384, 640)\n",
      "\n",
      "0: 384x640 3 persons, 2 bicycles, 3 cars, 2 motorcycles, 20 airplanes, 1 bus, 4 trains, 99 boats, 3 traffic lights, 5 fire hydrants, 6 stop signs, 1 parking meter, 2 benchs, 3 birds, 6 dogs, 1 horse, 31 bears, 6 giraffes, 29 umbrellas, 2 handbags, 1 tie, 10 frisbees, 1 snowboard, 1 surfboard, 4 spoons, 1 apple, 1 sandwich, 1 orange, 1 pizza, 2 cakes, 1 couch, 17 beds, 24 dining tables, 1 tv, 1 remote, 3 sinks, 1 clock, 149.3ms\n",
      "Speed: 0.0ms preprocess, 149.3ms inference, 16.7ms postprocess per image at shape (1, 3, 384, 640)\n",
      "\n",
      "0: 384x640 11 persons, 6 cars, 10 motorcycles, 4 airplanes, 5 buss, 6 trains, 3 trucks, 2 boats, 3 traffic lights, 15 fire hydrants, 34 stop signs, 59 parking meters, 3 birds, 1 cat, 3 dogs, 2 horses, 3 cows, 2 elephants, 10 bears, 1 zebra, 2 giraffes, 1 umbrella, 4 handbags, 19 ties, 1 suitcase, 1 skis, 1 snowboard, 10 sports balls, 26 bottles, 2 wine glasss, 1 fork, 2 knifes, 21 spoons, 1 bowl, 1 apple, 1 donut, 1 cake, 1 couch, 1 bed, 6 dining tables, 2 tvs, 1 remote, 1 refrigerator, 1 clock, 3 vases, 1 teddy bear, 2 hair driers, 3 toothbrushs, 182.7ms\n",
      "Speed: 0.0ms preprocess, 182.7ms inference, 0.0ms postprocess per image at shape (1, 3, 384, 640)\n",
      "\n",
      "0: 384x640 23 persons, 43 cars, 1 motorcycle, 30 airplanes, 20 trains, 4 trucks, 1 boat, 9 traffic lights, 1 fire hydrant, 2 stop signs, 16 benchs, 2 birds, 12 cats, 2 dogs, 4 horses, 1 sheep, 1 cow, 2 elephants, 1 bear, 1 zebra, 2 giraffes, 1 umbrella, 1 handbag, 11 suitcases, 2 skateboards, 1 bottle, 1 pizza, 28 couchs, 50 beds, 3 dining tables, 16 mouses, 2 remotes, 5 cell phones, 1 clock, 167.8ms\n",
      "Speed: 3.0ms preprocess, 167.8ms inference, 21.0ms postprocess per image at shape (1, 3, 384, 640)\n",
      "\n",
      "0: 384x640 4 persons, 8 bicycles, 7 cars, 27 motorcycles, 4 airplanes, 1 bus, 22 trains, 1 truck, 56 boats, 22 fire hydrants, 19 stop signs, 11 parking meters, 7 dogs, 1 horse, 18 bears, 2 backpacks, 19 umbrellas, 3 handbags, 3 suitcases, 4 sports balls, 6 bottles, 6 knifes, 18 spoons, 1 banana, 4 apples, 3 oranges, 4 beds, 14 dining tables, 1 remote, 4 keyboards, 150.4ms\n",
      "Speed: 1.0ms preprocess, 150.4ms inference, 22.3ms postprocess per image at shape (1, 3, 384, 640)\n",
      "\n",
      "0: 384x640 7 cars, 2 buss, 11 trains, 45 boats, 4 traffic lights, 3 fire hydrants, 35 stop signs, 15 parking meters, 1 dog, 1 elephant, 61 bears, 59 umbrellas, 2 handbags, 7 ties, 1 frisbee, 1 sports ball, 1 bottle, 20 knifes, 9 spoons, 2 bananas, 1 cake, 1 bed, 11 dining tables, 160.6ms\n",
      "Speed: 1.0ms preprocess, 160.6ms inference, 11.0ms postprocess per image at shape (1, 3, 384, 640)\n",
      "\n",
      "0: 384x640 6 persons, 14 bicycles, 23 cars, 1 motorcycle, 1 airplane, 1 bus, 16 trains, 2 trucks, 1 boat, 7 fire hydrants, 29 stop signs, 28 parking meters, 5 benchs, 1 bird, 1 cat, 52 dogs, 24 horses, 3 sheeps, 1 cow, 5 bears, 8 zebras, 6 giraffes, 1 backpack, 11 umbrellas, 2 handbags, 3 skiss, 1 snowboard, 1 sports ball, 1 cup, 11 forks, 10 knifes, 2 spoons, 1 bowl, 1 donut, 7 couchs, 2 beds, 5 dining tables, 1 laptop, 3 remotes, 1 vase, 1 hair drier, 156.2ms\n",
      "Speed: 2.0ms preprocess, 156.2ms inference, 0.0ms postprocess per image at shape (1, 3, 384, 640)\n",
      "\n",
      "0: 384x640 1 person, 5 bicycles, 19 cars, 2 motorcycles, 5 airplanes, 7 buss, 6 trains, 3 trucks, 33 boats, 5 stop signs, 1 parking meter, 1 bench, 9 cats, 2 dogs, 2 horses, 1 giraffe, 88 backpacks, 17 umbrellas, 12 handbags, 3 suitcases, 37 frisbees, 1 snowboard, 1 sports ball, 2 wine glasss, 4 spoons, 3 bowls, 1 banana, 1 couch, 5 beds, 18 dining tables, 1 tv, 1 remote, 1 keyboard, 1 sink, 1 clock, 166.2ms\n",
      "Speed: 0.0ms preprocess, 166.2ms inference, 15.5ms postprocess per image at shape (1, 3, 384, 640)\n",
      "\n",
      "0: 384x640 6 persons, 62 bicycles, 49 cars, 2 motorcycles, 11 airplanes, 8 buss, 20 trains, 18 trucks, 1 boat, 10 traffic lights, 14 fire hydrants, 21 stop signs, 18 parking meters, 6 benchs, 2 horses, 6 bears, 1 zebra, 4 umbrellas, 17 handbags, 5 suitcases, 1 frisbee, 8 sports balls, 1 bottle, 2 dining tables, 1 mouse, 1 remote, 1 keyboard, 4 clocks, 152.3ms\n",
      "Speed: 6.0ms preprocess, 152.3ms inference, 13.7ms postprocess per image at shape (1, 3, 384, 640)\n",
      "\n",
      "0: 384x640 5 persons, 4 cars, 2 motorcycles, 10 trains, 8 trucks, 28 boats, 5 traffic lights, 20 fire hydrants, 16 stop signs, 25 parking meters, 15 birds, 1 cat, 21 horses, 1 sheep, 1 elephant, 22 bears, 9 giraffes, 36 umbrellas, 8 handbags, 1 tie, 6 frisbees, 1 snowboard, 5 sports balls, 2 surfboards, 6 spoons, 2 apples, 9 couchs, 6 beds, 23 dining tables, 1 refrigerator, 1 teddy bear, 149.7ms\n",
      "Speed: 0.0ms preprocess, 149.7ms inference, 16.7ms postprocess per image at shape (1, 3, 384, 640)\n",
      "\n",
      "0: 384x640 51 cars, 3 motorcycles, 5 airplanes, 9 buss, 2 trains, 1 truck, 11 boats, 2 traffic lights, 10 stop signs, 8 parking meters, 1 bench, 12 birds, 10 cats, 5 dogs, 3 horses, 32 sheeps, 16 cows, 1 elephant, 2 backpacks, 1 umbrella, 2 suitcases, 32 frisbees, 2 snowboards, 3 sports balls, 3 bottles, 4 forks, 5 knifes, 5 spoons, 15 bowls, 6 apples, 1 sandwich, 11 donuts, 1 couch, 3 beds, 1 mouse, 8 remotes, 12 cell phones, 1 book, 166.4ms\n",
      "Speed: 0.0ms preprocess, 166.4ms inference, 16.7ms postprocess per image at shape (1, 3, 384, 640)\n",
      "\n",
      "0: 384x640 16 persons, 21 cars, 11 airplanes, 5 buss, 1 truck, 38 boats, 8 traffic lights, 27 fire hydrants, 15 stop signs, 26 parking meters, 1 bench, 9 birds, 4 cats, 2 sheeps, 2 cows, 22 bears, 1 giraffe, 19 umbrellas, 1 handbag, 6 ties, 1 suitcase, 7 frisbees, 1 snowboard, 4 sports balls, 1 skateboard, 6 bottles, 9 knifes, 4 spoons, 2 apples, 1 potted plant, 2 beds, 8 dining tables, 8 remotes, 3 cell phones, 2 sinks, 3 teddy bears, 1 hair drier, 2 toothbrushs, 175.4ms\n",
      "Speed: 0.0ms preprocess, 175.4ms inference, 14.5ms postprocess per image at shape (1, 3, 384, 640)\n",
      "\n",
      "0: 384x640 2 persons, 35 bicycles, 1 motorcycle, 43 trains, 1 truck, 9 boats, 5 traffic lights, 9 fire hydrants, 2 stop signs, 11 parking meters, 15 benchs, 8 dogs, 6 horses, 3 elephants, 29 bears, 84 umbrellas, 2 suitcases, 1 baseball bat, 1 tennis racket, 8 spoons, 1 apple, 1 donut, 4 couchs, 2 beds, 16 dining tables, 1 keyboard, 161.2ms\n",
      "Speed: 1.0ms preprocess, 161.2ms inference, 12.6ms postprocess per image at shape (1, 3, 384, 640)\n",
      "\n",
      "0: 384x640 75 persons, 4 bicycles, 46 cars, 1 motorcycle, 98 airplanes, 5 buss, 3 trains, 2 trucks, 13 boats, 4 traffic lights, 4 fire hydrants, 5 stop signs, 7 parking meters, 6 birds, 6 horses, 4 sheeps, 4 cows, 1 bear, 1 bowl, 1 cake, 1 potted plant, 3 beds, 4 mouses, 1 cell phone, 1 sink, 161.2ms\n",
      "Speed: 2.0ms preprocess, 161.2ms inference, 16.0ms postprocess per image at shape (1, 3, 384, 640)\n",
      "\n",
      "0: 384x640 14 persons, 12 bicycles, 29 cars, 7 motorcycles, 1 airplane, 3 buss, 13 trains, 2 trucks, 3 boats, 5 traffic lights, 4 fire hydrants, 11 stop signs, 9 parking meters, 1 bench, 5 cats, 28 dogs, 6 horses, 1 elephant, 15 bears, 1 zebra, 3 backpacks, 8 umbrellas, 3 handbags, 5 ties, 2 suitcases, 5 frisbees, 1 skis, 1 snowboard, 3 sports balls, 4 wine glasss, 2 forks, 14 knifes, 13 spoons, 2 bowls, 3 apples, 1 broccoli, 1 pizza, 1 cake, 8 couchs, 1 potted plant, 8 beds, 28 dining tables, 1 tv, 1 laptop, 2 mouses, 7 keyboards, 2 cell phones, 164.8ms\n",
      "Speed: 2.0ms preprocess, 164.8ms inference, 6.0ms postprocess per image at shape (1, 3, 384, 640)\n",
      "\n",
      "0: 384x640 5 persons, 6 bicycles, 24 cars, 26 motorcycles, 1 airplane, 5 trains, 3 trucks, 117 boats, 3 traffic lights, 4 fire hydrants, 14 stop signs, 8 parking meters, 1 dog, 8 horses, 1 bear, 2 backpacks, 4 umbrellas, 8 handbags, 2 suitcases, 1 frisbee, 4 skiss, 4 snowboards, 1 sports ball, 1 bottle, 1 knife, 22 spoons, 1 apple, 1 orange, 1 broccoli, 5 cakes, 2 couchs, 2 beds, 10 dining tables, 2 keyboards, 157.2ms\n",
      "Speed: 2.0ms preprocess, 157.2ms inference, 10.0ms postprocess per image at shape (1, 3, 384, 640)\n",
      "\n",
      "0: 384x640 3 persons, 10 bicycles, 6 motorcycles, 1 airplane, 9 trains, 31 boats, 6 fire hydrants, 35 stop signs, 17 parking meters, 4 dogs, 3 horses, 1 cow, 2 elephants, 16 bears, 21 backpacks, 41 umbrellas, 14 handbags, 15 ties, 2 frisbees, 2 sports balls, 13 bottles, 10 knifes, 30 spoons, 2 bananas, 3 oranges, 1 dining table, 2 teddy bears, 161.2ms\n",
      "Speed: 1.0ms preprocess, 161.2ms inference, 9.7ms postprocess per image at shape (1, 3, 384, 640)\n",
      "\n",
      "0: 384x640 2 persons, 2 bicycles, 5 cars, 6 motorcycles, 16 airplanes, 3 buss, 7 trains, 63 boats, 8 stop signs, 7 benchs, 1 horse, 6 cows, 12 bears, 1 giraffe, 72 umbrellas, 2 handbags, 5 suitcases, 10 frisbees, 3 snowboards, 3 bottles, 31 knifes, 10 spoons, 7 apples, 5 oranges, 4 carrots, 1 donut, 1 cake, 6 dining tables, 1 sink, 166.4ms\n",
      "Speed: 5.5ms preprocess, 166.4ms inference, 10.9ms postprocess per image at shape (1, 3, 384, 640)\n"
     ]
    }
   ],
   "source": [
    "import cv2\n",
    "\n",
    "Video_path = './Mumbai_traffic.mp4'\n",
    "\n",
    "cap = cv2.VideoCapture(Video_path)\n",
    "\n",
    "while cap.isOpened():\n",
    "    ret, img = cap.read()\n",
    "    if ret:\n",
    "        height, width = img.shape[0], img.shape[1]\n",
    "        half = cv2.resize(img, (int(width / 2), int(height / 2)))\n",
    "        \n",
    "        # YOLO로 물체 검출 시작\n",
    "        results = model(half, stream=True)\n",
    "\n",
    "        ## 결과 표시 like OpenCV 얼굴 검출\n",
    "        for result in results:\n",
    "            boxes = result.boxes\n",
    "            for box in boxes:\n",
    "                x1, y1, x2, y2 = box.xyxy[0]\n",
    "                x1, y1, x2, y2 = int(x1), int(y1), int(x2), int(y2)\n",
    "\n",
    "                cv2.rectangle(half, (x1, y1), (x2, y2), (0, 255, 255), 2)\n",
    "\n",
    "                accuracy = ((box.conf[0]/100)*100, 2)\n",
    "                index = int(box.cls[0])\n",
    "                # print(f'ClassName : {classNames[index]} / Accruacy : {accuracy}')\n",
    "                title = f'{classNames[index]}, {accuracy}'\n",
    "                ## 박스위에 종류와 정확도 출력\n",
    "                org = [x1, y1]\n",
    "                font = cv2.FONT_HERSHEY_SIMPLEX\n",
    "                fontScale = 0.6\n",
    "                color = (0, 255, 255)\n",
    "                thickness = 2\n",
    "\n",
    "                cv2.putText(half, classNames[index], org, font, fontScale, color, thickness)\n",
    "                \n",
    "        \n",
    "        cv2.imshow('YOLOv8', half)  # 결과 이미지 출력\n",
    "\n",
    "        if cv2.waitKey(1) == ord('q'):  # 'q' 키를 누르면 종료\n",
    "            break\n",
    "    else:\n",
    "        break\n",
    "\n",
    "cap.release()  # 자원 해제\n",
    "cv2.destroyAllWindows()\n"
   ]
  }
 ],
 "metadata": {
  "kernelspec": {
   "display_name": "gpu_env",
   "language": "python",
   "name": "python3"
  },
  "language_info": {
   "codemirror_mode": {
    "name": "ipython",
    "version": 3
   },
   "file_extension": ".py",
   "mimetype": "text/x-python",
   "name": "python",
   "nbconvert_exporter": "python",
   "pygments_lexer": "ipython3",
   "version": "3.11.5"
  }
 },
 "nbformat": 4,
 "nbformat_minor": 2
}
